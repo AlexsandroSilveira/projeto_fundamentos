{
 "cells": [
  {
   "cell_type": "markdown",
   "id": "f66f5ab2",
   "metadata": {},
   "source": [
    "# COMANDOS AUXILIARES"
   ]
  },
  {
   "cell_type": "markdown",
   "id": "6a0edcdf",
   "metadata": {},
   "source": [
    "## Inserção de imagens"
   ]
  },
  {
   "cell_type": "code",
   "execution_count": null,
   "id": "fa4c2e60",
   "metadata": {
    "ExecuteTime": {
     "end_time": "2022-08-04T13:17:22.831685Z",
     "start_time": "2022-08-04T13:17:22.826400Z"
    }
   },
   "outputs": [],
   "source": [
    "from IPython.display import Image"
   ]
  },
  {
   "cell_type": "markdown",
   "id": "4596b7c0",
   "metadata": {},
   "source": [
    "## Imports"
   ]
  },
  {
   "cell_type": "code",
   "execution_count": 1,
   "id": "d10145d2",
   "metadata": {
    "ExecuteTime": {
     "end_time": "2022-08-07T15:22:07.041907Z",
     "start_time": "2022-08-07T15:22:04.570048Z"
    }
   },
   "outputs": [],
   "source": [
    "import seaborn as sns\n",
    "import pandas  as pd\n",
    "import numpy   as np\n",
    "import matplotlib.pyplot as plt\n",
    "import math"
   ]
  },
  {
   "cell_type": "code",
   "execution_count": 2,
   "id": "a299fd61",
   "metadata": {
    "ExecuteTime": {
     "end_time": "2022-08-07T15:22:09.445201Z",
     "start_time": "2022-08-07T15:22:09.439429Z"
    }
   },
   "outputs": [],
   "source": [
    "plt.rcParams['figure.figsize'] = (18,10)\n",
    "plt.style.use( 'bmh' )"
   ]
  },
  {
   "cell_type": "markdown",
   "id": "a8933aa4",
   "metadata": {},
   "source": [
    "## Loading data"
   ]
  },
  {
   "cell_type": "code",
   "execution_count": 27,
   "id": "d39c2500",
   "metadata": {
    "ExecuteTime": {
     "end_time": "2022-08-07T15:43:12.562395Z",
     "start_time": "2022-08-07T15:43:12.544581Z"
    }
   },
   "outputs": [],
   "source": [
    "df = pd.read_csv('csv/bike.csv')"
   ]
  },
  {
   "cell_type": "markdown",
   "id": "a7175ea5",
   "metadata": {},
   "source": [
    "# KICK OFF DO PROJETO!"
   ]
  },
  {
   "cell_type": "markdown",
   "id": "dadc7973",
   "metadata": {
    "heading_collapsed": true
   },
   "source": [
    "## Contexto do Problema de Negócio"
   ]
  },
  {
   "cell_type": "markdown",
   "id": "974c21fa",
   "metadata": {
    "hidden": true
   },
   "source": [
    "A Xtreme Groovy Bikes Sales é uma empresa de revenda de motocicletas. Seu modelo de nogócio é revender motocicletas usadas. Com a crescente do valor dos veículos usados, a XGB Sales, como é conhecida, deseja expandir os seus negócios. Você foi contratado como cientista de dados pela empresa XGB Sales para ajudá-los a encotrar as melhores motocicletas para revenda. \n",
    "\n",
    "Para isso, o CEO da empresa fez um estudo de mercado lhe entregou uma base de dados, obtida através desse estudo, para que você consiga auxiliá-lo a encontrar as melhores motocicletas para revenda, aumentando assim o lucro da empresa.\n",
    "\n",
    "Além disso, o CEO lhe fez algumas perguntas a cerca da base de dados que a empresa possui.\n",
    "Lembrando que o contexto, pessoas e perguntas são completamente fictícios e existem somente na minha imaginação."
   ]
  },
  {
   "cell_type": "markdown",
   "id": "03539e7c",
   "metadata": {
    "heading_collapsed": true
   },
   "source": [
    "## O Desafio"
   ]
  },
  {
   "cell_type": "markdown",
   "id": "2114574c",
   "metadata": {
    "hidden": true
   },
   "source": [
    "A empresa XGB Sales lhe contratou como cientista de dados pois ela deseja aumentar o seu lucro comprando e revendendo as melhores motos disponíveis dentro da base de dados que a empresa adquiriu através de um estudo de mercado. \n",
    "\n",
    "Dessa forma, o CEO da XGB Sales lhe fez as seguintes perguntas:\n",
    "\n",
    "1. Quantas motos temos dentro do Dataset?\n",
    "2. Qual é o ano da moto mais antiga da base de dados?\n",
    "3. Qual é o ano da moto mais nova da base de dados?\n",
    "4. Qual é o valor da moto mais cara da base de dados?\n",
    "5. Qual é o valor do hodômotro da moto com a maior quilometragem?\n",
    "6. Qual é o valor do hodômotro da moto com a menor quiilometragem?\n",
    "7. Das motocicletas que estão sendo expostas dentro de um Show Room, qual é o maior valor registrado na base de dados?\n",
    "8. Das motocicletas que estão sendo expostas dentro de um Show Room, qual é o menor valor registrado na base de dados?\n",
    "9. Quantas motocicletas estão sendo vendidades pelos seus donos e quantas estão sendo vendidas por outros revendedores?\n",
    "10. Qual é a média de valores das motos na base de dados?\n",
    "11. Qual é a média de ano das motos cadastradas dentro da base de dados?\n",
    "12. Qual é a média de quilometragem das motos cadastradas dentro da base de dados?\n",
    "13. Existem quantas motos dentro da base de dados que são motos de um único dono?\n",
    "14. As motos com menor quilometragem são as motos mais baratas do Dataset?"
   ]
  },
  {
   "cell_type": "markdown",
   "id": "bf69ae6d",
   "metadata": {
    "heading_collapsed": true
   },
   "source": [
    "## A Base de Dados"
   ]
  },
  {
   "cell_type": "markdown",
   "id": "5e9f4dbc",
   "metadata": {
    "hidden": true
   },
   "source": [
    "O conjunto de dados que representam o contexto está disponível na plataforma do Kaggle. O link para acesso aos dados:\n",
    "\n",
    "[Motorcycle Dataset](https://www.kaggle.com/datasets/nehalbirla/motorcycle-dataset)"
   ]
  },
  {
   "cell_type": "markdown",
   "id": "deb32456",
   "metadata": {
    "heading_collapsed": true
   },
   "source": [
    "## Como Solucionar Esse Desafio"
   ]
  },
  {
   "cell_type": "markdown",
   "id": "3cfbb8e3",
   "metadata": {
    "hidden": true
   },
   "source": [
    "Aqui vão algumas dicas para você começar a resolver esse problema:\n",
    "\n",
    "* **Tenha calma e não tenha medo:** Crie suposições e faça testes, dando um passo de cada vez para, a cada novo passo, estar mais próximo da resposta.\n",
    "\n",
    "* **Responda as perguntas antes de Codificar:** Como você faria, se não tivesse que programar, para responder as perguntas feitas? Pensando antes em como responder, facilitará no momento de codificar o algoritmo para achar a resposta, porque isso faz parte do planejamento da solução!\n",
    "\n",
    "* **Tenha Paciência e Resiliência:** Criar soluções e, principalmente, pensar e planejá-las leva tempo. Assuma uma postura resiliente e não desista! Afinal, você quer se tornar um Cientista de Dados, ganhar ótimos salários e trabalhar em ótimas empresas, certo?\n",
    "\n",
    "* **A Comunidade:** Caso você tenha tentado várias estratégias e não tenha chegado a uma solução ou não tenha avançado, peça ajuda dentro da Comunidade de DS! Estamos todos para nos ajudar nessa jornada que é a Ciência de Dados.\n",
    "\n",
    "* **Crie Visualizações:** Caso a tabela gerada com as informações não seja de fácil entendimento, gere um gráfico/visualização para facilitar a compreensão do CEO.\n",
    "\n",
    "* **Estudem os dados antes de Qualquer coisa:** Façam a leitura do arquivo e estudem o que cada coluna representa. Criem a dicionário explicado cada uma das colunas."
   ]
  },
  {
   "cell_type": "markdown",
   "id": "63f8fa49",
   "metadata": {
    "heading_collapsed": true
   },
   "source": [
    "## Descrição das Colunas"
   ]
  },
  {
   "cell_type": "markdown",
   "id": "7ca5d47f",
   "metadata": {
    "ExecuteTime": {
     "end_time": "2022-08-04T16:31:57.210882Z",
     "start_time": "2022-08-04T16:31:57.199063Z"
    },
    "hidden": true
   },
   "source": [
    "| Coluna | Descrição |\n",
    "| :----- | --------: |\n",
    "| ID | Identificador da linha/registro |\n",
    "| name | Fabricante e Modelo da Moto |\n",
    "| selling_price | Preço de Venda |\n",
    "| year | Ano de Fabricação da Moto |\n",
    "| seller_type | Tipo de Vendedor - Se é vendedor pessoal ou revendedor |\n",
    "| owner | Se é primeiro, segundo, terceiro ou quarto dono da moto |\n",
    "| km_driven | Quantidade de Quilometros percorrido pela moto |\n",
    "| ex_showroom_price | Preço da motocicleta sem as taxas de seguro e registro |"
   ]
  },
  {
   "cell_type": "markdown",
   "id": "ee8d1c40",
   "metadata": {},
   "source": [
    "## Solucionando o Desafio"
   ]
  },
  {
   "cell_type": "code",
   "execution_count": 30,
   "id": "604ca4e3",
   "metadata": {
    "ExecuteTime": {
     "end_time": "2022-08-07T15:43:20.543692Z",
     "start_time": "2022-08-07T15:43:20.516300Z"
    }
   },
   "outputs": [
    {
     "data": {
      "text/html": [
       "<div>\n",
       "<style scoped>\n",
       "    .dataframe tbody tr th:only-of-type {\n",
       "        vertical-align: middle;\n",
       "    }\n",
       "\n",
       "    .dataframe tbody tr th {\n",
       "        vertical-align: top;\n",
       "    }\n",
       "\n",
       "    .dataframe thead th {\n",
       "        text-align: right;\n",
       "    }\n",
       "</style>\n",
       "<table border=\"1\" class=\"dataframe\">\n",
       "  <thead>\n",
       "    <tr style=\"text-align: right;\">\n",
       "      <th></th>\n",
       "      <th>name</th>\n",
       "      <th>selling_price</th>\n",
       "      <th>year</th>\n",
       "      <th>seller_type</th>\n",
       "      <th>owner</th>\n",
       "      <th>km_driven</th>\n",
       "      <th>ex_showroom_price</th>\n",
       "    </tr>\n",
       "  </thead>\n",
       "  <tbody>\n",
       "    <tr>\n",
       "      <th>0</th>\n",
       "      <td>Royal Enfield Classic 350</td>\n",
       "      <td>175000</td>\n",
       "      <td>2019</td>\n",
       "      <td>Individual</td>\n",
       "      <td>1st owner</td>\n",
       "      <td>350</td>\n",
       "      <td>NaN</td>\n",
       "    </tr>\n",
       "    <tr>\n",
       "      <th>1</th>\n",
       "      <td>Honda Dio</td>\n",
       "      <td>45000</td>\n",
       "      <td>2017</td>\n",
       "      <td>Individual</td>\n",
       "      <td>1st owner</td>\n",
       "      <td>5650</td>\n",
       "      <td>NaN</td>\n",
       "    </tr>\n",
       "    <tr>\n",
       "      <th>2</th>\n",
       "      <td>Royal Enfield Classic Gunmetal Grey</td>\n",
       "      <td>150000</td>\n",
       "      <td>2018</td>\n",
       "      <td>Individual</td>\n",
       "      <td>1st owner</td>\n",
       "      <td>12000</td>\n",
       "      <td>148114.0</td>\n",
       "    </tr>\n",
       "    <tr>\n",
       "      <th>3</th>\n",
       "      <td>Yamaha Fazer FI V 2.0 [2016-2018]</td>\n",
       "      <td>65000</td>\n",
       "      <td>2015</td>\n",
       "      <td>Individual</td>\n",
       "      <td>1st owner</td>\n",
       "      <td>23000</td>\n",
       "      <td>89643.0</td>\n",
       "    </tr>\n",
       "    <tr>\n",
       "      <th>4</th>\n",
       "      <td>Yamaha SZ [2013-2014]</td>\n",
       "      <td>20000</td>\n",
       "      <td>2011</td>\n",
       "      <td>Individual</td>\n",
       "      <td>2nd owner</td>\n",
       "      <td>21000</td>\n",
       "      <td>NaN</td>\n",
       "    </tr>\n",
       "  </tbody>\n",
       "</table>\n",
       "</div>"
      ],
      "text/plain": [
       "                                  name  selling_price  year seller_type  \\\n",
       "0            Royal Enfield Classic 350         175000  2019  Individual   \n",
       "1                            Honda Dio          45000  2017  Individual   \n",
       "2  Royal Enfield Classic Gunmetal Grey         150000  2018  Individual   \n",
       "3    Yamaha Fazer FI V 2.0 [2016-2018]          65000  2015  Individual   \n",
       "4                Yamaha SZ [2013-2014]          20000  2011  Individual   \n",
       "\n",
       "       owner  km_driven  ex_showroom_price  \n",
       "0  1st owner        350                NaN  \n",
       "1  1st owner       5650                NaN  \n",
       "2  1st owner      12000           148114.0  \n",
       "3  1st owner      23000            89643.0  \n",
       "4  2nd owner      21000                NaN  "
      ]
     },
     "execution_count": 30,
     "metadata": {},
     "output_type": "execute_result"
    }
   ],
   "source": [
    "df.head()"
   ]
  },
  {
   "cell_type": "markdown",
   "id": "8b92d628",
   "metadata": {
    "ExecuteTime": {
     "end_time": "2022-08-02T14:15:29.489560Z",
     "start_time": "2022-08-02T14:15:29.484988Z"
    }
   },
   "source": [
    "## Dimensão do dataset"
   ]
  },
  {
   "cell_type": "code",
   "execution_count": 31,
   "id": "c5017575",
   "metadata": {
    "ExecuteTime": {
     "end_time": "2022-08-07T15:43:21.873020Z",
     "start_time": "2022-08-07T15:43:21.863539Z"
    }
   },
   "outputs": [
    {
     "name": "stdout",
     "output_type": "stream",
     "text": [
      " O número total de linhas é: 1061 linhas\n",
      " O número total de colunas é: 7 colunas\n"
     ]
    }
   ],
   "source": [
    "print(f' O número total de linhas é: {df.shape[0]} linhas')\n",
    "print(f' O número total de colunas é: {df.shape[1]} colunas')"
   ]
  },
  {
   "cell_type": "markdown",
   "id": "a93f0c35",
   "metadata": {},
   "source": [
    "## Tipos de dados"
   ]
  },
  {
   "cell_type": "code",
   "execution_count": 32,
   "id": "117498b7",
   "metadata": {
    "ExecuteTime": {
     "end_time": "2022-08-07T15:43:22.933858Z",
     "start_time": "2022-08-07T15:43:22.919501Z"
    }
   },
   "outputs": [
    {
     "data": {
      "text/plain": [
       "name                  object\n",
       "selling_price          int64\n",
       "year                   int64\n",
       "seller_type           object\n",
       "owner                 object\n",
       "km_driven              int64\n",
       "ex_showroom_price    float64\n",
       "dtype: object"
      ]
     },
     "execution_count": 32,
     "metadata": {},
     "output_type": "execute_result"
    }
   ],
   "source": [
    "df.dtypes"
   ]
  },
  {
   "cell_type": "markdown",
   "id": "e3b4bee6",
   "metadata": {},
   "source": [
    "### Ajustando os dados"
   ]
  },
  {
   "cell_type": "code",
   "execution_count": 33,
   "id": "5c3d6a66",
   "metadata": {
    "ExecuteTime": {
     "end_time": "2022-08-07T15:43:23.948472Z",
     "start_time": "2022-08-07T15:43:23.913167Z"
    }
   },
   "outputs": [
    {
     "data": {
      "text/html": [
       "<div>\n",
       "<style scoped>\n",
       "    .dataframe tbody tr th:only-of-type {\n",
       "        vertical-align: middle;\n",
       "    }\n",
       "\n",
       "    .dataframe tbody tr th {\n",
       "        vertical-align: top;\n",
       "    }\n",
       "\n",
       "    .dataframe thead th {\n",
       "        text-align: right;\n",
       "    }\n",
       "</style>\n",
       "<table border=\"1\" class=\"dataframe\">\n",
       "  <thead>\n",
       "    <tr style=\"text-align: right;\">\n",
       "      <th></th>\n",
       "      <th>name</th>\n",
       "      <th>selling_price</th>\n",
       "      <th>year</th>\n",
       "      <th>seller_type</th>\n",
       "      <th>owner</th>\n",
       "      <th>km_driven</th>\n",
       "      <th>ex_showroom_price</th>\n",
       "    </tr>\n",
       "  </thead>\n",
       "  <tbody>\n",
       "    <tr>\n",
       "      <th>0</th>\n",
       "      <td>Royal Enfield Classic 350</td>\n",
       "      <td>175000</td>\n",
       "      <td>2019</td>\n",
       "      <td>Individual</td>\n",
       "      <td>1st owner</td>\n",
       "      <td>350</td>\n",
       "      <td>NaN</td>\n",
       "    </tr>\n",
       "    <tr>\n",
       "      <th>1</th>\n",
       "      <td>Honda Dio</td>\n",
       "      <td>45000</td>\n",
       "      <td>2017</td>\n",
       "      <td>Individual</td>\n",
       "      <td>1st owner</td>\n",
       "      <td>5650</td>\n",
       "      <td>NaN</td>\n",
       "    </tr>\n",
       "    <tr>\n",
       "      <th>2</th>\n",
       "      <td>Royal Enfield Classic Gunmetal Grey</td>\n",
       "      <td>150000</td>\n",
       "      <td>2018</td>\n",
       "      <td>Individual</td>\n",
       "      <td>1st owner</td>\n",
       "      <td>12000</td>\n",
       "      <td>148114.0</td>\n",
       "    </tr>\n",
       "    <tr>\n",
       "      <th>3</th>\n",
       "      <td>Yamaha Fazer FI V 2.0 [2016-2018]</td>\n",
       "      <td>65000</td>\n",
       "      <td>2015</td>\n",
       "      <td>Individual</td>\n",
       "      <td>1st owner</td>\n",
       "      <td>23000</td>\n",
       "      <td>89643.0</td>\n",
       "    </tr>\n",
       "    <tr>\n",
       "      <th>4</th>\n",
       "      <td>Yamaha SZ [2013-2014]</td>\n",
       "      <td>20000</td>\n",
       "      <td>2011</td>\n",
       "      <td>Individual</td>\n",
       "      <td>2nd owner</td>\n",
       "      <td>21000</td>\n",
       "      <td>NaN</td>\n",
       "    </tr>\n",
       "  </tbody>\n",
       "</table>\n",
       "</div>"
      ],
      "text/plain": [
       "                                  name  selling_price  year seller_type  \\\n",
       "0            Royal Enfield Classic 350         175000  2019  Individual   \n",
       "1                            Honda Dio          45000  2017  Individual   \n",
       "2  Royal Enfield Classic Gunmetal Grey         150000  2018  Individual   \n",
       "3    Yamaha Fazer FI V 2.0 [2016-2018]          65000  2015  Individual   \n",
       "4                Yamaha SZ [2013-2014]          20000  2011  Individual   \n",
       "\n",
       "       owner  km_driven  ex_showroom_price  \n",
       "0  1st owner        350                NaN  \n",
       "1  1st owner       5650                NaN  \n",
       "2  1st owner      12000           148114.0  \n",
       "3  1st owner      23000            89643.0  \n",
       "4  2nd owner      21000                NaN  "
      ]
     },
     "execution_count": 33,
     "metadata": {},
     "output_type": "execute_result"
    }
   ],
   "source": [
    "# Ajustando a coluna para Datetime\n",
    "df['year'] = pd.to_datetime(df['year'], format='%Y')\n",
    "\n",
    "# Recuperando somente o ano da coluna\n",
    "df['year'] = df['year'].dt.year\n",
    "\n",
    "df.head()"
   ]
  },
  {
   "cell_type": "markdown",
   "id": "07c4342c",
   "metadata": {},
   "source": [
    "### Criando ID"
   ]
  },
  {
   "cell_type": "code",
   "execution_count": 34,
   "id": "db46f04d",
   "metadata": {
    "ExecuteTime": {
     "end_time": "2022-08-07T15:43:25.126160Z",
     "start_time": "2022-08-07T15:43:25.103140Z"
    }
   },
   "outputs": [
    {
     "data": {
      "text/html": [
       "<div>\n",
       "<style scoped>\n",
       "    .dataframe tbody tr th:only-of-type {\n",
       "        vertical-align: middle;\n",
       "    }\n",
       "\n",
       "    .dataframe tbody tr th {\n",
       "        vertical-align: top;\n",
       "    }\n",
       "\n",
       "    .dataframe thead th {\n",
       "        text-align: right;\n",
       "    }\n",
       "</style>\n",
       "<table border=\"1\" class=\"dataframe\">\n",
       "  <thead>\n",
       "    <tr style=\"text-align: right;\">\n",
       "      <th></th>\n",
       "      <th>id</th>\n",
       "      <th>name</th>\n",
       "      <th>selling_price</th>\n",
       "      <th>year</th>\n",
       "      <th>seller_type</th>\n",
       "      <th>owner</th>\n",
       "      <th>km_driven</th>\n",
       "      <th>ex_showroom_price</th>\n",
       "    </tr>\n",
       "  </thead>\n",
       "  <tbody>\n",
       "    <tr>\n",
       "      <th>0</th>\n",
       "      <td>0</td>\n",
       "      <td>Royal Enfield Classic 350</td>\n",
       "      <td>175000</td>\n",
       "      <td>2019</td>\n",
       "      <td>Individual</td>\n",
       "      <td>1st owner</td>\n",
       "      <td>350</td>\n",
       "      <td>NaN</td>\n",
       "    </tr>\n",
       "    <tr>\n",
       "      <th>1</th>\n",
       "      <td>1</td>\n",
       "      <td>Honda Dio</td>\n",
       "      <td>45000</td>\n",
       "      <td>2017</td>\n",
       "      <td>Individual</td>\n",
       "      <td>1st owner</td>\n",
       "      <td>5650</td>\n",
       "      <td>NaN</td>\n",
       "    </tr>\n",
       "    <tr>\n",
       "      <th>2</th>\n",
       "      <td>2</td>\n",
       "      <td>Royal Enfield Classic Gunmetal Grey</td>\n",
       "      <td>150000</td>\n",
       "      <td>2018</td>\n",
       "      <td>Individual</td>\n",
       "      <td>1st owner</td>\n",
       "      <td>12000</td>\n",
       "      <td>148114.0</td>\n",
       "    </tr>\n",
       "    <tr>\n",
       "      <th>3</th>\n",
       "      <td>3</td>\n",
       "      <td>Yamaha Fazer FI V 2.0 [2016-2018]</td>\n",
       "      <td>65000</td>\n",
       "      <td>2015</td>\n",
       "      <td>Individual</td>\n",
       "      <td>1st owner</td>\n",
       "      <td>23000</td>\n",
       "      <td>89643.0</td>\n",
       "    </tr>\n",
       "    <tr>\n",
       "      <th>4</th>\n",
       "      <td>4</td>\n",
       "      <td>Yamaha SZ [2013-2014]</td>\n",
       "      <td>20000</td>\n",
       "      <td>2011</td>\n",
       "      <td>Individual</td>\n",
       "      <td>2nd owner</td>\n",
       "      <td>21000</td>\n",
       "      <td>NaN</td>\n",
       "    </tr>\n",
       "  </tbody>\n",
       "</table>\n",
       "</div>"
      ],
      "text/plain": [
       "   id                                 name  selling_price  year seller_type  \\\n",
       "0   0            Royal Enfield Classic 350         175000  2019  Individual   \n",
       "1   1                            Honda Dio          45000  2017  Individual   \n",
       "2   2  Royal Enfield Classic Gunmetal Grey         150000  2018  Individual   \n",
       "3   3    Yamaha Fazer FI V 2.0 [2016-2018]          65000  2015  Individual   \n",
       "4   4                Yamaha SZ [2013-2014]          20000  2011  Individual   \n",
       "\n",
       "       owner  km_driven  ex_showroom_price  \n",
       "0  1st owner        350                NaN  \n",
       "1  1st owner       5650                NaN  \n",
       "2  1st owner      12000           148114.0  \n",
       "3  1st owner      23000            89643.0  \n",
       "4  2nd owner      21000                NaN  "
      ]
     },
     "execution_count": 34,
     "metadata": {},
     "output_type": "execute_result"
    }
   ],
   "source": [
    "df = df.reset_index()\n",
    "df = df.rename(columns={\"index\" : \"id\"})\n",
    "df.head()"
   ]
  },
  {
   "cell_type": "markdown",
   "id": "ffe1f230",
   "metadata": {},
   "source": [
    "## NA check"
   ]
  },
  {
   "cell_type": "code",
   "execution_count": 35,
   "id": "fe89f710",
   "metadata": {
    "ExecuteTime": {
     "end_time": "2022-08-07T15:43:26.383337Z",
     "start_time": "2022-08-07T15:43:26.356342Z"
    }
   },
   "outputs": [
    {
     "data": {
      "text/plain": [
       "id                     0\n",
       "name                   0\n",
       "selling_price          0\n",
       "year                   0\n",
       "seller_type            0\n",
       "owner                  0\n",
       "km_driven              0\n",
       "ex_showroom_price    435\n",
       "dtype: int64"
      ]
     },
     "execution_count": 35,
     "metadata": {},
     "output_type": "execute_result"
    }
   ],
   "source": [
    "df.isna().sum()"
   ]
  },
  {
   "cell_type": "code",
   "execution_count": 36,
   "id": "4f2e9a08",
   "metadata": {
    "ExecuteTime": {
     "end_time": "2022-08-07T15:43:26.952110Z",
     "start_time": "2022-08-07T15:43:26.945239Z"
    }
   },
   "outputs": [],
   "source": [
    "num_attributes = df.select_dtypes( include = ['int64', 'float64'])\n",
    "cat_attributes = df.select_dtypes( exclude = ['int64', 'float64'])"
   ]
  },
  {
   "cell_type": "code",
   "execution_count": 37,
   "id": "aea73e98",
   "metadata": {
    "ExecuteTime": {
     "end_time": "2022-08-07T15:43:27.638244Z",
     "start_time": "2022-08-07T15:43:27.562252Z"
    }
   },
   "outputs": [
    {
     "data": {
      "text/html": [
       "<div>\n",
       "<style scoped>\n",
       "    .dataframe tbody tr th:only-of-type {\n",
       "        vertical-align: middle;\n",
       "    }\n",
       "\n",
       "    .dataframe tbody tr th {\n",
       "        vertical-align: top;\n",
       "    }\n",
       "\n",
       "    .dataframe thead th {\n",
       "        text-align: right;\n",
       "    }\n",
       "</style>\n",
       "<table border=\"1\" class=\"dataframe\">\n",
       "  <thead>\n",
       "    <tr style=\"text-align: right;\">\n",
       "      <th></th>\n",
       "      <th>attributes</th>\n",
       "      <th>min</th>\n",
       "      <th>max</th>\n",
       "      <th>range</th>\n",
       "      <th>mean</th>\n",
       "      <th>median</th>\n",
       "      <th>std</th>\n",
       "      <th>skew</th>\n",
       "      <th>kurtosis</th>\n",
       "    </tr>\n",
       "  </thead>\n",
       "  <tbody>\n",
       "    <tr>\n",
       "      <th>0</th>\n",
       "      <td>id</td>\n",
       "      <td>0.0</td>\n",
       "      <td>1060.0</td>\n",
       "      <td>1060.0</td>\n",
       "      <td>530.000000</td>\n",
       "      <td>530.0</td>\n",
       "      <td>306.284182</td>\n",
       "      <td>0.000000</td>\n",
       "      <td>-1.200000</td>\n",
       "    </tr>\n",
       "    <tr>\n",
       "      <th>1</th>\n",
       "      <td>selling_price</td>\n",
       "      <td>5000.0</td>\n",
       "      <td>760000.0</td>\n",
       "      <td>755000.0</td>\n",
       "      <td>59638.151744</td>\n",
       "      <td>45000.0</td>\n",
       "      <td>56277.752121</td>\n",
       "      <td>4.993784</td>\n",
       "      <td>47.263080</td>\n",
       "    </tr>\n",
       "    <tr>\n",
       "      <th>2</th>\n",
       "      <td>year</td>\n",
       "      <td>1988.0</td>\n",
       "      <td>2020.0</td>\n",
       "      <td>32.0</td>\n",
       "      <td>2013.867107</td>\n",
       "      <td>2015.0</td>\n",
       "      <td>4.299164</td>\n",
       "      <td>-1.397296</td>\n",
       "      <td>3.223544</td>\n",
       "    </tr>\n",
       "    <tr>\n",
       "      <th>3</th>\n",
       "      <td>km_driven</td>\n",
       "      <td>350.0</td>\n",
       "      <td>880000.0</td>\n",
       "      <td>879650.0</td>\n",
       "      <td>34359.833176</td>\n",
       "      <td>25000.0</td>\n",
       "      <td>51598.819373</td>\n",
       "      <td>9.312195</td>\n",
       "      <td>115.815305</td>\n",
       "    </tr>\n",
       "    <tr>\n",
       "      <th>4</th>\n",
       "      <td>ex_showroom_price</td>\n",
       "      <td>NaN</td>\n",
       "      <td>NaN</td>\n",
       "      <td>1247510.0</td>\n",
       "      <td>87958.714058</td>\n",
       "      <td>NaN</td>\n",
       "      <td>77434.664217</td>\n",
       "      <td>8.438888</td>\n",
       "      <td>104.396578</td>\n",
       "    </tr>\n",
       "  </tbody>\n",
       "</table>\n",
       "</div>"
      ],
      "text/plain": [
       "          attributes     min       max      range          mean   median  \\\n",
       "0                 id     0.0    1060.0     1060.0    530.000000    530.0   \n",
       "1      selling_price  5000.0  760000.0   755000.0  59638.151744  45000.0   \n",
       "2               year  1988.0    2020.0       32.0   2013.867107   2015.0   \n",
       "3          km_driven   350.0  880000.0   879650.0  34359.833176  25000.0   \n",
       "4  ex_showroom_price     NaN       NaN  1247510.0  87958.714058      NaN   \n",
       "\n",
       "            std      skew    kurtosis  \n",
       "0    306.284182  0.000000   -1.200000  \n",
       "1  56277.752121  4.993784   47.263080  \n",
       "2      4.299164 -1.397296    3.223544  \n",
       "3  51598.819373  9.312195  115.815305  \n",
       "4  77434.664217  8.438888  104.396578  "
      ]
     },
     "execution_count": 37,
     "metadata": {},
     "output_type": "execute_result"
    }
   ],
   "source": [
    "# Central tendency - mean, median\n",
    "ct1 = pd.DataFrame( num_attributes.apply( np.mean )).T\n",
    "ct2 = pd.DataFrame( num_attributes.apply( np.median )).T\n",
    "\n",
    "# dispersion - std, min, max, range, skew, kurtosis\n",
    "d1 = pd.DataFrame( num_attributes.apply( np.std )).T\n",
    "d2 = pd.DataFrame( num_attributes.apply( min )).T\n",
    "d3 = pd.DataFrame( num_attributes.apply( max )).T\n",
    "d4 = pd.DataFrame( num_attributes.apply( lambda x: x.max() - x.min() )).T\n",
    "d5 = pd.DataFrame( num_attributes.apply( lambda x: x.skew() )).T\n",
    "d6 = pd.DataFrame( num_attributes.apply( lambda x: x.kurtosis() )).T\n",
    "\n",
    "#concat\n",
    "m = pd.concat( [d2, d3, d4, ct1, ct2, d1, d5, d6] ).T.reset_index()\n",
    "m.columns = ['attributes', 'min', 'max', 'range', 'mean', 'median', 'std', 'skew', 'kurtosis'] \n",
    "m"
   ]
  },
  {
   "cell_type": "code",
   "execution_count": 38,
   "id": "33771db4",
   "metadata": {
    "ExecuteTime": {
     "end_time": "2022-08-07T15:43:49.958443Z",
     "start_time": "2022-08-07T15:43:28.343377Z"
    }
   },
   "outputs": [
    {
     "data": {
      "image/png": "[encoded data removed]",
      "text/plain": [
       "<Figure size 1296x720 with 1 Axes>"
      ]
     },
     "metadata": {
      "needs_background": "light"
     },
     "output_type": "display_data"
    }
   ],
   "source": [
    "plt.xticks(rotation=90)\n",
    "sns.barplot( x= 'name', y= 'selling_price', data=df);"
   ]
  },
  {
   "cell_type": "code",
   "execution_count": 39,
   "id": "2c393541",
   "metadata": {
    "ExecuteTime": {
     "end_time": "2022-08-07T15:43:51.081881Z",
     "start_time": "2022-08-07T15:43:50.266284Z"
    }
   },
   "outputs": [
    {
     "data": {
      "text/plain": [
       "<AxesSubplot:xlabel='owner', ylabel='selling_price'>"
      ]
     },
     "execution_count": 39,
     "metadata": {},
     "output_type": "execute_result"
    },
    {
     "data": {
      "image/png": "[encoded data removed]",
      "text/plain": [
       "<Figure size 1296x720 with 2 Axes>"
      ]
     },
     "metadata": {
      "needs_background": "light"
     },
     "output_type": "display_data"
    }
   ],
   "source": [
    "df = df[(df['selling_price'] < 350000)]\n",
    "\n",
    "plt.rcParams['font.size'] = 12\n",
    "plt.subplot( 2, 2, 1)\n",
    "sns.boxplot( x= 'seller_type', y= 'selling_price', data=df)\n",
    "\n",
    "plt.subplot( 2, 2, 2)\n",
    "sns.boxplot( x= 'owner', y= 'selling_price', data=df)"
   ]
  },
  {
   "cell_type": "markdown",
   "id": "0d05180f",
   "metadata": {},
   "source": [
    "## Respostas"
   ]
  },
  {
   "cell_type": "markdown",
   "id": "b6e5d7fd",
   "metadata": {
    "ExecuteTime": {
     "end_time": "2022-08-02T21:35:38.715730Z",
     "start_time": "2022-08-02T21:35:38.709943Z"
    }
   },
   "source": [
    "### 1. Quantas motos temos dentro do Dataset?"
   ]
  },
  {
   "cell_type": "code",
   "execution_count": 40,
   "id": "9d0e4a71",
   "metadata": {
    "ExecuteTime": {
     "end_time": "2022-08-07T15:44:04.630239Z",
     "start_time": "2022-08-07T15:44:04.623847Z"
    }
   },
   "outputs": [
    {
     "name": "stdout",
     "output_type": "stream",
     "text": [
      " O dataset tem um total de 1057 motos\n"
     ]
    }
   ],
   "source": [
    "print(f' O dataset tem um total de {df.shape[0]} motos')"
   ]
  },
  {
   "cell_type": "markdown",
   "id": "d520f8e7",
   "metadata": {},
   "source": [
    "### 2. Qual é o ano da moto mais antiga da base de dados?"
   ]
  },
  {
   "cell_type": "code",
   "execution_count": 41,
   "id": "639e5580",
   "metadata": {
    "ExecuteTime": {
     "end_time": "2022-08-07T15:44:06.449824Z",
     "start_time": "2022-08-07T15:44:06.443171Z"
    }
   },
   "outputs": [
    {
     "name": "stdout",
     "output_type": "stream",
     "text": [
      "A moto mais antiga da base de dados é do ano de 1988\n"
     ]
    }
   ],
   "source": [
    "x = df['year'].min()\n",
    "print(f'A moto mais antiga da base de dados é do ano de {x}')"
   ]
  },
  {
   "cell_type": "markdown",
   "id": "d98eac23",
   "metadata": {},
   "source": [
    "### 3. Qual é o ano da moto mais nova da base de dados?"
   ]
  },
  {
   "cell_type": "code",
   "execution_count": 42,
   "id": "c6a72ada",
   "metadata": {
    "ExecuteTime": {
     "end_time": "2022-08-07T15:44:07.833219Z",
     "start_time": "2022-08-07T15:44:07.821542Z"
    }
   },
   "outputs": [
    {
     "name": "stdout",
     "output_type": "stream",
     "text": [
      "A moto mais nova da base de dados é do ano de 2020\n"
     ]
    }
   ],
   "source": [
    "x = df['year'].max()\n",
    "print(f'A moto mais nova da base de dados é do ano de {x}')"
   ]
  },
  {
   "cell_type": "markdown",
   "id": "b78922df",
   "metadata": {},
   "source": [
    "### 4. Qual é o valor da moto mais cara da base de dados?"
   ]
  },
  {
   "cell_type": "code",
   "execution_count": 43,
   "id": "a70228c4",
   "metadata": {
    "ExecuteTime": {
     "end_time": "2022-08-07T15:44:08.751997Z",
     "start_time": "2022-08-07T15:44:08.738011Z"
    }
   },
   "outputs": [
    {
     "name": "stdout",
     "output_type": "stream",
     "text": [
      "A moto mais cara custa R$330000\n"
     ]
    }
   ],
   "source": [
    "x = df['selling_price'].max()\n",
    "print(f'A moto mais cara custa R${x}')"
   ]
  },
  {
   "cell_type": "markdown",
   "id": "53ea1a60",
   "metadata": {},
   "source": [
    "### 5. Qual é o valor do hodômotro da moto com a maior quilometragem?"
   ]
  },
  {
   "cell_type": "code",
   "execution_count": 44,
   "id": "313fe8a3",
   "metadata": {
    "ExecuteTime": {
     "end_time": "2022-08-07T15:44:09.553227Z",
     "start_time": "2022-08-07T15:44:09.547049Z"
    }
   },
   "outputs": [
    {
     "name": "stdout",
     "output_type": "stream",
     "text": [
      "A moto com maior quilometragem tem 880000km\n"
     ]
    }
   ],
   "source": [
    "x = df['km_driven'].max()\n",
    "print(f'A moto com maior quilometragem tem {x}km')"
   ]
  },
  {
   "cell_type": "markdown",
   "id": "82c24f6f",
   "metadata": {},
   "source": [
    "### 6. Qual é o valor do hodômotro da moto com a menor quiilometragem?"
   ]
  },
  {
   "cell_type": "code",
   "execution_count": 45,
   "id": "61feab40",
   "metadata": {
    "ExecuteTime": {
     "end_time": "2022-08-07T15:44:10.337871Z",
     "start_time": "2022-08-07T15:44:10.331289Z"
    }
   },
   "outputs": [
    {
     "name": "stdout",
     "output_type": "stream",
     "text": [
      "A moto com menor quilometragem tem 350km\n"
     ]
    }
   ],
   "source": [
    "x = df['km_driven'].min()\n",
    "print(f'A moto com menor quilometragem tem {x}km')"
   ]
  },
  {
   "cell_type": "markdown",
   "id": "91316eca",
   "metadata": {},
   "source": [
    "### 7. Das motocicletas que estão sendo expostas dentro de um Show Room, qual é o maior valor registrado na base de dados?\n"
   ]
  },
  {
   "cell_type": "code",
   "execution_count": 46,
   "id": "3babbb42",
   "metadata": {
    "ExecuteTime": {
     "end_time": "2022-08-07T15:44:11.147886Z",
     "start_time": "2022-08-07T15:44:11.142379Z"
    }
   },
   "outputs": [
    {
     "name": "stdout",
     "output_type": "stream",
     "text": [
      "A moto com maior valor em um Show Room vale R$589000.0\n"
     ]
    }
   ],
   "source": [
    "x = df['ex_showroom_price'].max()\n",
    "print(f'A moto com maior valor em um Show Room vale R${x}')"
   ]
  },
  {
   "cell_type": "markdown",
   "id": "41a74182",
   "metadata": {
    "ExecuteTime": {
     "end_time": "2022-08-02T21:52:47.150377Z",
     "start_time": "2022-08-02T21:52:47.143276Z"
    }
   },
   "source": [
    "### 8. Das motocicletas que estão sendo expostas dentro de um Show Room, qual é o menor valor registrado na base de dados?"
   ]
  },
  {
   "cell_type": "code",
   "execution_count": 47,
   "id": "1a93de08",
   "metadata": {
    "ExecuteTime": {
     "end_time": "2022-08-07T15:44:12.217577Z",
     "start_time": "2022-08-07T15:44:12.211070Z"
    }
   },
   "outputs": [
    {
     "name": "stdout",
     "output_type": "stream",
     "text": [
      "A moto com menor valor em um Show Room vale R$30490.0\n"
     ]
    }
   ],
   "source": [
    "x = df['ex_showroom_price'].min()\n",
    "print(f'A moto com menor valor em um Show Room vale R${x}')"
   ]
  },
  {
   "cell_type": "markdown",
   "id": "7312d36d",
   "metadata": {},
   "source": [
    "### 9. Quantas motocicletas estão sendo vendidades pelos seus donos e quantas estão sendo vendidas por outros revendedores?"
   ]
  },
  {
   "cell_type": "code",
   "execution_count": 48,
   "id": "5a1bb56b",
   "metadata": {
    "ExecuteTime": {
     "end_time": "2022-08-07T15:44:13.216537Z",
     "start_time": "2022-08-07T15:44:13.199521Z"
    }
   },
   "outputs": [
    {
     "name": "stdout",
     "output_type": "stream",
     "text": [
      "Tem 1051 motos sendo vendidas pelos proprietários e 6 motos vendidas por revendedores\n"
     ]
    }
   ],
   "source": [
    "x = df[(df['seller_type'] == 'Individual')]\n",
    "y = df[(df['seller_type'] == 'Dealer')]\n",
    "print(f'Tem {x.shape[0]} motos sendo vendidas pelos proprietários e {y.shape[0]} motos vendidas por revendedores')"
   ]
  },
  {
   "cell_type": "code",
   "execution_count": 49,
   "id": "d488977c",
   "metadata": {
    "ExecuteTime": {
     "end_time": "2022-08-07T15:44:13.749820Z",
     "start_time": "2022-08-07T15:44:13.731059Z"
    }
   },
   "outputs": [
    {
     "data": {
      "text/html": [
       "<div>\n",
       "<style scoped>\n",
       "    .dataframe tbody tr th:only-of-type {\n",
       "        vertical-align: middle;\n",
       "    }\n",
       "\n",
       "    .dataframe tbody tr th {\n",
       "        vertical-align: top;\n",
       "    }\n",
       "\n",
       "    .dataframe thead th {\n",
       "        text-align: right;\n",
       "    }\n",
       "</style>\n",
       "<table border=\"1\" class=\"dataframe\">\n",
       "  <thead>\n",
       "    <tr style=\"text-align: right;\">\n",
       "      <th></th>\n",
       "      <th>seller_type</th>\n",
       "      <th>count</th>\n",
       "    </tr>\n",
       "  </thead>\n",
       "  <tbody>\n",
       "    <tr>\n",
       "      <th>0</th>\n",
       "      <td>Dealer</td>\n",
       "      <td>6</td>\n",
       "    </tr>\n",
       "    <tr>\n",
       "      <th>1</th>\n",
       "      <td>Individual</td>\n",
       "      <td>1051</td>\n",
       "    </tr>\n",
       "  </tbody>\n",
       "</table>\n",
       "</div>"
      ],
      "text/plain": [
       "  seller_type  count\n",
       "0      Dealer      6\n",
       "1  Individual   1051"
      ]
     },
     "execution_count": 49,
     "metadata": {},
     "output_type": "execute_result"
    }
   ],
   "source": [
    "df_grouped = df[['id', 'seller_type']].groupby('seller_type').count().reset_index()\n",
    "df_grouped.rename(columns={'id':'count'})"
   ]
  },
  {
   "cell_type": "markdown",
   "id": "a277ba3b",
   "metadata": {},
   "source": [
    "### 10. Qual é a média de valores das motos na base de dados?"
   ]
  },
  {
   "cell_type": "code",
   "execution_count": 50,
   "id": "b212aecc",
   "metadata": {
    "ExecuteTime": {
     "end_time": "2022-08-07T15:44:15.565295Z",
     "start_time": "2022-08-07T15:44:15.558068Z"
    }
   },
   "outputs": [
    {
     "name": "stdout",
     "output_type": "stream",
     "text": [
      "O valor médio das motos é R$57687.87\n"
     ]
    }
   ],
   "source": [
    "x = df['selling_price'].mean()\n",
    "print(f'O valor médio das motos é R${round(x, 2)}')"
   ]
  },
  {
   "cell_type": "markdown",
   "id": "266b8f88",
   "metadata": {},
   "source": [
    "### 11. Qual é a média de ano das motos cadastradas dentro da base de dados?"
   ]
  },
  {
   "cell_type": "code",
   "execution_count": 51,
   "id": "1d6eec19",
   "metadata": {
    "ExecuteTime": {
     "end_time": "2022-08-07T15:44:16.689243Z",
     "start_time": "2022-08-07T15:44:16.679807Z"
    }
   },
   "outputs": [
    {
     "name": "stdout",
     "output_type": "stream",
     "text": [
      "A média dos anos das motos é 2013.86\n"
     ]
    }
   ],
   "source": [
    "x = df['year'].mean()\n",
    "print(f'A média dos anos das motos é {round(x, 2)}')"
   ]
  },
  {
   "cell_type": "markdown",
   "id": "a726fccc",
   "metadata": {},
   "source": [
    "### 12. Qual é a média de quilometragem das motos cadastradas dentro da base de dados?"
   ]
  },
  {
   "cell_type": "code",
   "execution_count": 52,
   "id": "3c73cb09",
   "metadata": {
    "ExecuteTime": {
     "end_time": "2022-08-07T15:44:17.743940Z",
     "start_time": "2022-08-07T15:44:17.736567Z"
    }
   },
   "outputs": [
    {
     "name": "stdout",
     "output_type": "stream",
     "text": [
      "A quilometragem média das motos é 34461.93km\n"
     ]
    }
   ],
   "source": [
    "x = df['km_driven'].mean()\n",
    "print(f'A quilometragem média das motos é {round(x, 2)}km')"
   ]
  },
  {
   "cell_type": "markdown",
   "id": "2b457ed5",
   "metadata": {},
   "source": [
    "### 13. Existem quantas motos dentro da base de dados que são motos de um único dono?"
   ]
  },
  {
   "cell_type": "code",
   "execution_count": 53,
   "id": "284e9959",
   "metadata": {
    "ExecuteTime": {
     "end_time": "2022-08-07T15:44:18.777651Z",
     "start_time": "2022-08-07T15:44:18.765190Z"
    }
   },
   "outputs": [
    {
     "name": "stdout",
     "output_type": "stream",
     "text": [
      "Existem 922 motos que são de um único dono\n"
     ]
    }
   ],
   "source": [
    "x = df[(df['owner'] == '1st owner')]\n",
    "x = x.shape[0]\n",
    "print(f'Existem {x} motos que são de um único dono')"
   ]
  },
  {
   "cell_type": "markdown",
   "id": "eb224ea0",
   "metadata": {},
   "source": [
    "### 14. As motos com menor quilometragem são as motos mais baratas do Dataset?"
   ]
  },
  {
   "cell_type": "code",
   "execution_count": 54,
   "id": "864cb277",
   "metadata": {
    "ExecuteTime": {
     "end_time": "2022-08-07T15:44:19.875626Z",
     "start_time": "2022-08-07T15:44:19.847497Z"
    }
   },
   "outputs": [
    {
     "data": {
      "text/html": [
       "<div>\n",
       "<style scoped>\n",
       "    .dataframe tbody tr th:only-of-type {\n",
       "        vertical-align: middle;\n",
       "    }\n",
       "\n",
       "    .dataframe tbody tr th {\n",
       "        vertical-align: top;\n",
       "    }\n",
       "\n",
       "    .dataframe thead th {\n",
       "        text-align: right;\n",
       "    }\n",
       "</style>\n",
       "<table border=\"1\" class=\"dataframe\">\n",
       "  <thead>\n",
       "    <tr style=\"text-align: right;\">\n",
       "      <th></th>\n",
       "      <th>id</th>\n",
       "      <th>name</th>\n",
       "      <th>selling_price</th>\n",
       "      <th>year</th>\n",
       "      <th>seller_type</th>\n",
       "      <th>owner</th>\n",
       "      <th>km_driven</th>\n",
       "      <th>ex_showroom_price</th>\n",
       "    </tr>\n",
       "  </thead>\n",
       "  <tbody>\n",
       "    <tr>\n",
       "      <th>0</th>\n",
       "      <td>0</td>\n",
       "      <td>Royal Enfield Classic 350</td>\n",
       "      <td>175000</td>\n",
       "      <td>2019</td>\n",
       "      <td>Individual</td>\n",
       "      <td>1st owner</td>\n",
       "      <td>350</td>\n",
       "      <td>NaN</td>\n",
       "    </tr>\n",
       "    <tr>\n",
       "      <th>657</th>\n",
       "      <td>657</td>\n",
       "      <td>TVS Scooty Zest 110</td>\n",
       "      <td>55000</td>\n",
       "      <td>2018</td>\n",
       "      <td>Individual</td>\n",
       "      <td>1st owner</td>\n",
       "      <td>380</td>\n",
       "      <td>53751.0</td>\n",
       "    </tr>\n",
       "    <tr>\n",
       "      <th>1025</th>\n",
       "      <td>1025</td>\n",
       "      <td>Activa 3g</td>\n",
       "      <td>45000</td>\n",
       "      <td>2018</td>\n",
       "      <td>Individual</td>\n",
       "      <td>1st owner</td>\n",
       "      <td>500</td>\n",
       "      <td>54000.0</td>\n",
       "    </tr>\n",
       "    <tr>\n",
       "      <th>101</th>\n",
       "      <td>101</td>\n",
       "      <td>Royal Enfield Classic 350</td>\n",
       "      <td>175000</td>\n",
       "      <td>2020</td>\n",
       "      <td>Individual</td>\n",
       "      <td>1st owner</td>\n",
       "      <td>500</td>\n",
       "      <td>NaN</td>\n",
       "    </tr>\n",
       "    <tr>\n",
       "      <th>136</th>\n",
       "      <td>136</td>\n",
       "      <td>Royal Enfield Classic Gunmetal Grey</td>\n",
       "      <td>190000</td>\n",
       "      <td>2020</td>\n",
       "      <td>Individual</td>\n",
       "      <td>1st owner</td>\n",
       "      <td>500</td>\n",
       "      <td>155740.0</td>\n",
       "    </tr>\n",
       "    <tr>\n",
       "      <th>...</th>\n",
       "      <td>...</td>\n",
       "      <td>...</td>\n",
       "      <td>...</td>\n",
       "      <td>...</td>\n",
       "      <td>...</td>\n",
       "      <td>...</td>\n",
       "      <td>...</td>\n",
       "      <td>...</td>\n",
       "    </tr>\n",
       "    <tr>\n",
       "      <th>1056</th>\n",
       "      <td>1056</td>\n",
       "      <td>Activa 3g</td>\n",
       "      <td>17000</td>\n",
       "      <td>2010</td>\n",
       "      <td>Individual</td>\n",
       "      <td>1st owner</td>\n",
       "      <td>500000</td>\n",
       "      <td>52000.0</td>\n",
       "    </tr>\n",
       "    <tr>\n",
       "      <th>91</th>\n",
       "      <td>91</td>\n",
       "      <td>Honda Activa [2000-2015]</td>\n",
       "      <td>22989</td>\n",
       "      <td>2012</td>\n",
       "      <td>Individual</td>\n",
       "      <td>1st owner</td>\n",
       "      <td>500000</td>\n",
       "      <td>50267.0</td>\n",
       "    </tr>\n",
       "    <tr>\n",
       "      <th>477</th>\n",
       "      <td>477</td>\n",
       "      <td>Honda Activa [2000-2015]</td>\n",
       "      <td>25000</td>\n",
       "      <td>2009</td>\n",
       "      <td>Individual</td>\n",
       "      <td>1st owner</td>\n",
       "      <td>585659</td>\n",
       "      <td>50267.0</td>\n",
       "    </tr>\n",
       "    <tr>\n",
       "      <th>363</th>\n",
       "      <td>363</td>\n",
       "      <td>Hero Honda CD100SS</td>\n",
       "      <td>10000</td>\n",
       "      <td>1997</td>\n",
       "      <td>Individual</td>\n",
       "      <td>1st owner</td>\n",
       "      <td>646000</td>\n",
       "      <td>NaN</td>\n",
       "    </tr>\n",
       "    <tr>\n",
       "      <th>642</th>\n",
       "      <td>642</td>\n",
       "      <td>TVS Apache RTR 160</td>\n",
       "      <td>15000</td>\n",
       "      <td>2009</td>\n",
       "      <td>Individual</td>\n",
       "      <td>4th owner</td>\n",
       "      <td>880000</td>\n",
       "      <td>NaN</td>\n",
       "    </tr>\n",
       "  </tbody>\n",
       "</table>\n",
       "<p>1057 rows × 8 columns</p>\n",
       "</div>"
      ],
      "text/plain": [
       "        id                                 name  selling_price  year  \\\n",
       "0        0            Royal Enfield Classic 350         175000  2019   \n",
       "657    657                  TVS Scooty Zest 110          55000  2018   \n",
       "1025  1025                            Activa 3g          45000  2018   \n",
       "101    101            Royal Enfield Classic 350         175000  2020   \n",
       "136    136  Royal Enfield Classic Gunmetal Grey         190000  2020   \n",
       "...    ...                                  ...            ...   ...   \n",
       "1056  1056                            Activa 3g          17000  2010   \n",
       "91      91             Honda Activa [2000-2015]          22989  2012   \n",
       "477    477             Honda Activa [2000-2015]          25000  2009   \n",
       "363    363                   Hero Honda CD100SS          10000  1997   \n",
       "642    642                   TVS Apache RTR 160          15000  2009   \n",
       "\n",
       "     seller_type      owner  km_driven  ex_showroom_price  \n",
       "0     Individual  1st owner        350                NaN  \n",
       "657   Individual  1st owner        380            53751.0  \n",
       "1025  Individual  1st owner        500            54000.0  \n",
       "101   Individual  1st owner        500                NaN  \n",
       "136   Individual  1st owner        500           155740.0  \n",
       "...          ...        ...        ...                ...  \n",
       "1056  Individual  1st owner     500000            52000.0  \n",
       "91    Individual  1st owner     500000            50267.0  \n",
       "477   Individual  1st owner     585659            50267.0  \n",
       "363   Individual  1st owner     646000                NaN  \n",
       "642   Individual  4th owner     880000                NaN  \n",
       "\n",
       "[1057 rows x 8 columns]"
      ]
     },
     "execution_count": 54,
     "metadata": {},
     "output_type": "execute_result"
    }
   ],
   "source": [
    "df_ordenado = df.sort_values(by='km_driven')\n",
    "df_ordenado"
   ]
  },
  {
   "cell_type": "code",
   "execution_count": 55,
   "id": "140fa7ee",
   "metadata": {
    "ExecuteTime": {
     "end_time": "2022-08-07T15:44:20.615576Z",
     "start_time": "2022-08-07T15:44:20.610705Z"
    }
   },
   "outputs": [],
   "source": [
    "# Função que criará as classes\n",
    "def create_km_class(km_driven):\n",
    "    # Cria a categoria a cada 15 mil Km percorridos\n",
    "    return math.ceil(km_driven / 15000)"
   ]
  },
  {
   "cell_type": "code",
   "execution_count": 56,
   "id": "fec807fa",
   "metadata": {
    "ExecuteTime": {
     "end_time": "2022-08-07T15:44:21.819079Z",
     "start_time": "2022-08-07T15:44:21.781511Z"
    }
   },
   "outputs": [
    {
     "data": {
      "text/html": [
       "<div>\n",
       "<style scoped>\n",
       "    .dataframe tbody tr th:only-of-type {\n",
       "        vertical-align: middle;\n",
       "    }\n",
       "\n",
       "    .dataframe tbody tr th {\n",
       "        vertical-align: top;\n",
       "    }\n",
       "\n",
       "    .dataframe thead th {\n",
       "        text-align: right;\n",
       "    }\n",
       "</style>\n",
       "<table border=\"1\" class=\"dataframe\">\n",
       "  <thead>\n",
       "    <tr style=\"text-align: right;\">\n",
       "      <th></th>\n",
       "      <th>id</th>\n",
       "      <th>name</th>\n",
       "      <th>selling_price</th>\n",
       "      <th>year</th>\n",
       "      <th>seller_type</th>\n",
       "      <th>owner</th>\n",
       "      <th>km_driven</th>\n",
       "      <th>ex_showroom_price</th>\n",
       "      <th>km_class</th>\n",
       "    </tr>\n",
       "  </thead>\n",
       "  <tbody>\n",
       "    <tr>\n",
       "      <th>0</th>\n",
       "      <td>0</td>\n",
       "      <td>Royal Enfield Classic 350</td>\n",
       "      <td>175000</td>\n",
       "      <td>2019</td>\n",
       "      <td>Individual</td>\n",
       "      <td>1st owner</td>\n",
       "      <td>350</td>\n",
       "      <td>NaN</td>\n",
       "      <td>1</td>\n",
       "    </tr>\n",
       "    <tr>\n",
       "      <th>1</th>\n",
       "      <td>1</td>\n",
       "      <td>Honda Dio</td>\n",
       "      <td>45000</td>\n",
       "      <td>2017</td>\n",
       "      <td>Individual</td>\n",
       "      <td>1st owner</td>\n",
       "      <td>5650</td>\n",
       "      <td>NaN</td>\n",
       "      <td>1</td>\n",
       "    </tr>\n",
       "    <tr>\n",
       "      <th>2</th>\n",
       "      <td>2</td>\n",
       "      <td>Royal Enfield Classic Gunmetal Grey</td>\n",
       "      <td>150000</td>\n",
       "      <td>2018</td>\n",
       "      <td>Individual</td>\n",
       "      <td>1st owner</td>\n",
       "      <td>12000</td>\n",
       "      <td>148114.0</td>\n",
       "      <td>1</td>\n",
       "    </tr>\n",
       "    <tr>\n",
       "      <th>3</th>\n",
       "      <td>3</td>\n",
       "      <td>Yamaha Fazer FI V 2.0 [2016-2018]</td>\n",
       "      <td>65000</td>\n",
       "      <td>2015</td>\n",
       "      <td>Individual</td>\n",
       "      <td>1st owner</td>\n",
       "      <td>23000</td>\n",
       "      <td>89643.0</td>\n",
       "      <td>2</td>\n",
       "    </tr>\n",
       "    <tr>\n",
       "      <th>4</th>\n",
       "      <td>4</td>\n",
       "      <td>Yamaha SZ [2013-2014]</td>\n",
       "      <td>20000</td>\n",
       "      <td>2011</td>\n",
       "      <td>Individual</td>\n",
       "      <td>2nd owner</td>\n",
       "      <td>21000</td>\n",
       "      <td>NaN</td>\n",
       "      <td>2</td>\n",
       "    </tr>\n",
       "  </tbody>\n",
       "</table>\n",
       "</div>"
      ],
      "text/plain": [
       "   id                                 name  selling_price  year seller_type  \\\n",
       "0   0            Royal Enfield Classic 350         175000  2019  Individual   \n",
       "1   1                            Honda Dio          45000  2017  Individual   \n",
       "2   2  Royal Enfield Classic Gunmetal Grey         150000  2018  Individual   \n",
       "3   3    Yamaha Fazer FI V 2.0 [2016-2018]          65000  2015  Individual   \n",
       "4   4                Yamaha SZ [2013-2014]          20000  2011  Individual   \n",
       "\n",
       "       owner  km_driven  ex_showroom_price  km_class  \n",
       "0  1st owner        350                NaN         1  \n",
       "1  1st owner       5650                NaN         1  \n",
       "2  1st owner      12000           148114.0         1  \n",
       "3  1st owner      23000            89643.0         2  \n",
       "4  2nd owner      21000                NaN         2  "
      ]
     },
     "execution_count": 56,
     "metadata": {},
     "output_type": "execute_result"
    }
   ],
   "source": [
    "# Aplica a classificação das motocicletas\n",
    "df['km_class'] = df['km_driven'].apply( lambda km_driven: create_km_class(km_driven) )\n",
    "df.head()"
   ]
  },
  {
   "cell_type": "code",
   "execution_count": 57,
   "id": "95bdaae4",
   "metadata": {
    "ExecuteTime": {
     "end_time": "2022-08-07T15:44:22.463241Z",
     "start_time": "2022-08-07T15:44:22.456960Z"
    }
   },
   "outputs": [
    {
     "data": {
      "text/plain": [
       "17"
      ]
     },
     "execution_count": 57,
     "metadata": {},
     "output_type": "execute_result"
    }
   ],
   "source": [
    "len(df['km_class'].unique())"
   ]
  },
  {
   "cell_type": "code",
   "execution_count": 58,
   "id": "2234596d",
   "metadata": {
    "ExecuteTime": {
     "end_time": "2022-08-07T15:44:23.193874Z",
     "start_time": "2022-08-07T15:44:23.166195Z"
    }
   },
   "outputs": [
    {
     "data": {
      "text/html": [
       "<div>\n",
       "<style scoped>\n",
       "    .dataframe tbody tr th:only-of-type {\n",
       "        vertical-align: middle;\n",
       "    }\n",
       "\n",
       "    .dataframe tbody tr th {\n",
       "        vertical-align: top;\n",
       "    }\n",
       "\n",
       "    .dataframe thead th {\n",
       "        text-align: right;\n",
       "    }\n",
       "</style>\n",
       "<table border=\"1\" class=\"dataframe\">\n",
       "  <thead>\n",
       "    <tr style=\"text-align: right;\">\n",
       "      <th></th>\n",
       "      <th>km_class</th>\n",
       "      <th>selling_price</th>\n",
       "    </tr>\n",
       "  </thead>\n",
       "  <tbody>\n",
       "    <tr>\n",
       "      <th>0</th>\n",
       "      <td>44</td>\n",
       "      <td>10000.000000</td>\n",
       "    </tr>\n",
       "    <tr>\n",
       "      <th>1</th>\n",
       "      <td>59</td>\n",
       "      <td>15000.000000</td>\n",
       "    </tr>\n",
       "    <tr>\n",
       "      <th>2</th>\n",
       "      <td>8</td>\n",
       "      <td>16250.000000</td>\n",
       "    </tr>\n",
       "    <tr>\n",
       "      <th>3</th>\n",
       "      <td>34</td>\n",
       "      <td>19994.500000</td>\n",
       "    </tr>\n",
       "    <tr>\n",
       "      <th>4</th>\n",
       "      <td>6</td>\n",
       "      <td>24904.761905</td>\n",
       "    </tr>\n",
       "  </tbody>\n",
       "</table>\n",
       "</div>"
      ],
      "text/plain": [
       "   km_class  selling_price\n",
       "0        44   10000.000000\n",
       "1        59   15000.000000\n",
       "2         8   16250.000000\n",
       "3        34   19994.500000\n",
       "4         6   24904.761905"
      ]
     },
     "execution_count": 58,
     "metadata": {},
     "output_type": "execute_result"
    }
   ],
   "source": [
    "df_grouped = df[['km_class', 'selling_price']].groupby('km_class')\n",
    "\n",
    "df_grouped = df_grouped.mean().sort_values('selling_price').reset_index()\n",
    "\n",
    "df_grouped.head()"
   ]
  },
  {
   "cell_type": "code",
   "execution_count": 59,
   "id": "245ee7e4",
   "metadata": {
    "ExecuteTime": {
     "end_time": "2022-08-07T15:44:24.299363Z",
     "start_time": "2022-08-07T15:44:23.783593Z"
    }
   },
   "outputs": [
    {
     "data": {
      "image/png": "[encoded data removed]",
      "text/plain": [
       "<Figure size 1296x720 with 1 Axes>"
      ]
     },
     "metadata": {
      "needs_background": "light"
     },
     "output_type": "display_data"
    }
   ],
   "source": [
    "plt.xticks(rotation=90)\n",
    "sns.barplot( x= 'km_class', y= 'selling_price', data=df_grouped);"
   ]
  },
  {
   "cell_type": "markdown",
   "id": "d2529aa7",
   "metadata": {
    "ExecuteTime": {
     "end_time": "2022-08-04T16:33:56.019697Z",
     "start_time": "2022-08-04T16:33:56.011577Z"
    }
   },
   "source": [
    "## Novas Perguntas"
   ]
  },
  {
   "cell_type": "markdown",
   "id": "c36051b5",
   "metadata": {},
   "source": [
    "Após analisar as respostas das perguntas anteriores, o CEO da XGB Sales lhe fez mais algumas perguntas:"
   ]
  },
  {
   "cell_type": "markdown",
   "id": "b75568bc",
   "metadata": {},
   "source": [
    "### 1. As motos que possuiram somente 1 dono são as motos mais caras na média que as motos que tiveram mais donos?"
   ]
  },
  {
   "cell_type": "code",
   "execution_count": 60,
   "id": "4184f890",
   "metadata": {
    "ExecuteTime": {
     "end_time": "2022-08-07T15:44:26.226744Z",
     "start_time": "2022-08-07T15:44:26.200058Z"
    }
   },
   "outputs": [
    {
     "data": {
      "text/html": [
       "<div>\n",
       "<style scoped>\n",
       "    .dataframe tbody tr th:only-of-type {\n",
       "        vertical-align: middle;\n",
       "    }\n",
       "\n",
       "    .dataframe tbody tr th {\n",
       "        vertical-align: top;\n",
       "    }\n",
       "\n",
       "    .dataframe thead th {\n",
       "        text-align: right;\n",
       "    }\n",
       "</style>\n",
       "<table border=\"1\" class=\"dataframe\">\n",
       "  <thead>\n",
       "    <tr style=\"text-align: right;\">\n",
       "      <th></th>\n",
       "      <th>id</th>\n",
       "      <th>name</th>\n",
       "      <th>selling_price</th>\n",
       "      <th>year</th>\n",
       "      <th>seller_type</th>\n",
       "      <th>owner</th>\n",
       "      <th>km_driven</th>\n",
       "      <th>ex_showroom_price</th>\n",
       "      <th>km_class</th>\n",
       "    </tr>\n",
       "  </thead>\n",
       "  <tbody>\n",
       "    <tr>\n",
       "      <th>311</th>\n",
       "      <td>311</td>\n",
       "      <td>Harley-Davidson Street 750</td>\n",
       "      <td>330000</td>\n",
       "      <td>2014</td>\n",
       "      <td>Individual</td>\n",
       "      <td>4th owner</td>\n",
       "      <td>6500</td>\n",
       "      <td>534000.0</td>\n",
       "      <td>1</td>\n",
       "    </tr>\n",
       "    <tr>\n",
       "      <th>642</th>\n",
       "      <td>642</td>\n",
       "      <td>TVS Apache RTR 160</td>\n",
       "      <td>15000</td>\n",
       "      <td>2009</td>\n",
       "      <td>Individual</td>\n",
       "      <td>4th owner</td>\n",
       "      <td>880000</td>\n",
       "      <td>NaN</td>\n",
       "      <td>59</td>\n",
       "    </tr>\n",
       "    <tr>\n",
       "      <th>698</th>\n",
       "      <td>698</td>\n",
       "      <td>Hero Honda CBZ</td>\n",
       "      <td>10000</td>\n",
       "      <td>2000</td>\n",
       "      <td>Individual</td>\n",
       "      <td>4th owner</td>\n",
       "      <td>48000</td>\n",
       "      <td>NaN</td>\n",
       "      <td>4</td>\n",
       "    </tr>\n",
       "  </tbody>\n",
       "</table>\n",
       "</div>"
      ],
      "text/plain": [
       "      id                        name  selling_price  year seller_type  \\\n",
       "311  311  Harley-Davidson Street 750         330000  2014  Individual   \n",
       "642  642          TVS Apache RTR 160          15000  2009  Individual   \n",
       "698  698              Hero Honda CBZ          10000  2000  Individual   \n",
       "\n",
       "         owner  km_driven  ex_showroom_price  km_class  \n",
       "311  4th owner       6500           534000.0         1  \n",
       "642  4th owner     880000                NaN        59  \n",
       "698  4th owner      48000                NaN         4  "
      ]
     },
     "execution_count": 60,
     "metadata": {},
     "output_type": "execute_result"
    }
   ],
   "source": [
    "df.loc[df['owner'] == '4th owner', :]"
   ]
  },
  {
   "cell_type": "code",
   "execution_count": 61,
   "id": "ead40766",
   "metadata": {
    "ExecuteTime": {
     "end_time": "2022-08-07T15:44:26.864934Z",
     "start_time": "2022-08-07T15:44:26.823924Z"
    }
   },
   "outputs": [
    {
     "data": {
      "text/html": [
       "<div>\n",
       "<style scoped>\n",
       "    .dataframe tbody tr th:only-of-type {\n",
       "        vertical-align: middle;\n",
       "    }\n",
       "\n",
       "    .dataframe tbody tr th {\n",
       "        vertical-align: top;\n",
       "    }\n",
       "\n",
       "    .dataframe thead th {\n",
       "        text-align: right;\n",
       "    }\n",
       "</style>\n",
       "<table border=\"1\" class=\"dataframe\">\n",
       "  <thead>\n",
       "    <tr style=\"text-align: right;\">\n",
       "      <th></th>\n",
       "      <th>owner</th>\n",
       "      <th>price</th>\n",
       "      <th>qty</th>\n",
       "    </tr>\n",
       "  </thead>\n",
       "  <tbody>\n",
       "    <tr>\n",
       "      <th>0</th>\n",
       "      <td>1st owner</td>\n",
       "      <td>45000.0</td>\n",
       "      <td>922</td>\n",
       "    </tr>\n",
       "    <tr>\n",
       "      <th>1</th>\n",
       "      <td>3rd owner</td>\n",
       "      <td>45000.0</td>\n",
       "      <td>11</td>\n",
       "    </tr>\n",
       "    <tr>\n",
       "      <th>2</th>\n",
       "      <td>2nd owner</td>\n",
       "      <td>30000.0</td>\n",
       "      <td>121</td>\n",
       "    </tr>\n",
       "    <tr>\n",
       "      <th>3</th>\n",
       "      <td>4th owner</td>\n",
       "      <td>15000.0</td>\n",
       "      <td>3</td>\n",
       "    </tr>\n",
       "  </tbody>\n",
       "</table>\n",
       "</div>"
      ],
      "text/plain": [
       "       owner    price  qty\n",
       "0  1st owner  45000.0  922\n",
       "1  3rd owner  45000.0   11\n",
       "2  2nd owner  30000.0  121\n",
       "3  4th owner  15000.0    3"
      ]
     },
     "execution_count": 61,
     "metadata": {},
     "output_type": "execute_result"
    }
   ],
   "source": [
    "df_grouped = df[['owner', 'selling_price']].groupby('owner')\n",
    "df_grouped = df_grouped.agg(\n",
    "    price = pd.NamedAgg('selling_price', 'median'),\n",
    "    qty = pd.NamedAgg('owner', 'count')\n",
    ").sort_values('price', ascending=False).reset_index()\n",
    "df_grouped"
   ]
  },
  {
   "cell_type": "code",
   "execution_count": 62,
   "id": "da67669b",
   "metadata": {
    "ExecuteTime": {
     "end_time": "2022-08-07T15:44:28.193915Z",
     "start_time": "2022-08-07T15:44:28.170445Z"
    }
   },
   "outputs": [
    {
     "data": {
      "text/html": [
       "<div>\n",
       "<style scoped>\n",
       "    .dataframe tbody tr th:only-of-type {\n",
       "        vertical-align: middle;\n",
       "    }\n",
       "\n",
       "    .dataframe tbody tr th {\n",
       "        vertical-align: top;\n",
       "    }\n",
       "\n",
       "    .dataframe thead th {\n",
       "        text-align: right;\n",
       "    }\n",
       "</style>\n",
       "<table border=\"1\" class=\"dataframe\">\n",
       "  <thead>\n",
       "    <tr style=\"text-align: right;\">\n",
       "      <th></th>\n",
       "      <th>selling_price</th>\n",
       "    </tr>\n",
       "    <tr>\n",
       "      <th>owner</th>\n",
       "      <th></th>\n",
       "    </tr>\n",
       "  </thead>\n",
       "  <tbody>\n",
       "    <tr>\n",
       "      <th>1st owner</th>\n",
       "      <td>58932.841649</td>\n",
       "    </tr>\n",
       "    <tr>\n",
       "      <th>2nd owner</th>\n",
       "      <td>46876.024793</td>\n",
       "    </tr>\n",
       "    <tr>\n",
       "      <th>3rd owner</th>\n",
       "      <td>55727.272727</td>\n",
       "    </tr>\n",
       "    <tr>\n",
       "      <th>4th owner</th>\n",
       "      <td>118333.333333</td>\n",
       "    </tr>\n",
       "  </tbody>\n",
       "</table>\n",
       "</div>"
      ],
      "text/plain": [
       "           selling_price\n",
       "owner                   \n",
       "1st owner   58932.841649\n",
       "2nd owner   46876.024793\n",
       "3rd owner   55727.272727\n",
       "4th owner  118333.333333"
      ]
     },
     "execution_count": 62,
     "metadata": {},
     "output_type": "execute_result"
    }
   ],
   "source": [
    "df_grouped = df[['owner', 'selling_price']].groupby('owner').mean()\n",
    "df_grouped.head()"
   ]
  },
  {
   "cell_type": "markdown",
   "id": "8deb01a2",
   "metadata": {},
   "source": [
    "### 2. As motos que possuiram mais donos são as motos que possuem quilometragem média maior que as motos que possuiram menos donos?"
   ]
  },
  {
   "cell_type": "code",
   "execution_count": 63,
   "id": "8c1f50af",
   "metadata": {
    "ExecuteTime": {
     "end_time": "2022-08-07T15:44:29.474840Z",
     "start_time": "2022-08-07T15:44:29.458396Z"
    }
   },
   "outputs": [
    {
     "data": {
      "text/html": [
       "<div>\n",
       "<style scoped>\n",
       "    .dataframe tbody tr th:only-of-type {\n",
       "        vertical-align: middle;\n",
       "    }\n",
       "\n",
       "    .dataframe tbody tr th {\n",
       "        vertical-align: top;\n",
       "    }\n",
       "\n",
       "    .dataframe thead th {\n",
       "        text-align: right;\n",
       "    }\n",
       "</style>\n",
       "<table border=\"1\" class=\"dataframe\">\n",
       "  <thead>\n",
       "    <tr style=\"text-align: right;\">\n",
       "      <th></th>\n",
       "      <th>km_driven</th>\n",
       "    </tr>\n",
       "    <tr>\n",
       "      <th>owner</th>\n",
       "      <th></th>\n",
       "    </tr>\n",
       "  </thead>\n",
       "  <tbody>\n",
       "    <tr>\n",
       "      <th>1st owner</th>\n",
       "      <td>32883.509761</td>\n",
       "    </tr>\n",
       "    <tr>\n",
       "      <th>2nd owner</th>\n",
       "      <td>39726.826446</td>\n",
       "    </tr>\n",
       "    <tr>\n",
       "      <th>3rd owner</th>\n",
       "      <td>33292.181818</td>\n",
       "    </tr>\n",
       "    <tr>\n",
       "      <th>4th owner</th>\n",
       "      <td>311500.000000</td>\n",
       "    </tr>\n",
       "  </tbody>\n",
       "</table>\n",
       "</div>"
      ],
      "text/plain": [
       "               km_driven\n",
       "owner                   \n",
       "1st owner   32883.509761\n",
       "2nd owner   39726.826446\n",
       "3rd owner   33292.181818\n",
       "4th owner  311500.000000"
      ]
     },
     "execution_count": 63,
     "metadata": {},
     "output_type": "execute_result"
    }
   ],
   "source": [
    "df_grouped = df[['owner', 'km_driven']].groupby('owner').mean()\n",
    "df_grouped.head()"
   ]
  },
  {
   "cell_type": "markdown",
   "id": "49917e56",
   "metadata": {},
   "source": [
    "### 3. As motos que possuiram mais donos são as motos mais velhas na média?"
   ]
  },
  {
   "cell_type": "code",
   "execution_count": 64,
   "id": "6f3add9c",
   "metadata": {
    "ExecuteTime": {
     "end_time": "2022-08-07T15:44:30.638185Z",
     "start_time": "2022-08-07T15:44:30.616661Z"
    }
   },
   "outputs": [
    {
     "data": {
      "text/html": [
       "<div>\n",
       "<style scoped>\n",
       "    .dataframe tbody tr th:only-of-type {\n",
       "        vertical-align: middle;\n",
       "    }\n",
       "\n",
       "    .dataframe tbody tr th {\n",
       "        vertical-align: top;\n",
       "    }\n",
       "\n",
       "    .dataframe thead th {\n",
       "        text-align: right;\n",
       "    }\n",
       "</style>\n",
       "<table border=\"1\" class=\"dataframe\">\n",
       "  <thead>\n",
       "    <tr style=\"text-align: right;\">\n",
       "      <th></th>\n",
       "      <th>year</th>\n",
       "    </tr>\n",
       "    <tr>\n",
       "      <th>owner</th>\n",
       "      <th></th>\n",
       "    </tr>\n",
       "  </thead>\n",
       "  <tbody>\n",
       "    <tr>\n",
       "      <th>1st owner</th>\n",
       "      <td>2014.189805</td>\n",
       "    </tr>\n",
       "    <tr>\n",
       "      <th>2nd owner</th>\n",
       "      <td>2012.008264</td>\n",
       "    </tr>\n",
       "    <tr>\n",
       "      <th>3rd owner</th>\n",
       "      <td>2007.818182</td>\n",
       "    </tr>\n",
       "    <tr>\n",
       "      <th>4th owner</th>\n",
       "      <td>2007.666667</td>\n",
       "    </tr>\n",
       "  </tbody>\n",
       "</table>\n",
       "</div>"
      ],
      "text/plain": [
       "                  year\n",
       "owner                 \n",
       "1st owner  2014.189805\n",
       "2nd owner  2012.008264\n",
       "3rd owner  2007.818182\n",
       "4th owner  2007.666667"
      ]
     },
     "execution_count": 64,
     "metadata": {},
     "output_type": "execute_result"
    }
   ],
   "source": [
    "df_grouped = df[['owner', 'year']].groupby('owner').mean()\n",
    "df_grouped.head()"
   ]
  },
  {
   "cell_type": "markdown",
   "id": "bbbd1ace",
   "metadata": {},
   "source": [
    "### 4. As motos que são vendidas por revendedores são as motos mais caras na média do que as motos vendidas pelos seus donos?"
   ]
  },
  {
   "cell_type": "code",
   "execution_count": 65,
   "id": "cf16c34f",
   "metadata": {
    "ExecuteTime": {
     "end_time": "2022-08-07T15:44:32.225823Z",
     "start_time": "2022-08-07T15:44:32.209610Z"
    }
   },
   "outputs": [
    {
     "data": {
      "text/html": [
       "<div>\n",
       "<style scoped>\n",
       "    .dataframe tbody tr th:only-of-type {\n",
       "        vertical-align: middle;\n",
       "    }\n",
       "\n",
       "    .dataframe tbody tr th {\n",
       "        vertical-align: top;\n",
       "    }\n",
       "\n",
       "    .dataframe thead th {\n",
       "        text-align: right;\n",
       "    }\n",
       "</style>\n",
       "<table border=\"1\" class=\"dataframe\">\n",
       "  <thead>\n",
       "    <tr style=\"text-align: right;\">\n",
       "      <th></th>\n",
       "      <th>selling_price</th>\n",
       "    </tr>\n",
       "    <tr>\n",
       "      <th>seller_type</th>\n",
       "      <th></th>\n",
       "    </tr>\n",
       "  </thead>\n",
       "  <tbody>\n",
       "    <tr>\n",
       "      <th>Dealer</th>\n",
       "      <td>46666.666667</td>\n",
       "    </tr>\n",
       "    <tr>\n",
       "      <th>Individual</th>\n",
       "      <td>57750.788773</td>\n",
       "    </tr>\n",
       "  </tbody>\n",
       "</table>\n",
       "</div>"
      ],
      "text/plain": [
       "             selling_price\n",
       "seller_type               \n",
       "Dealer        46666.666667\n",
       "Individual    57750.788773"
      ]
     },
     "execution_count": 65,
     "metadata": {},
     "output_type": "execute_result"
    }
   ],
   "source": [
    "df_grouped = df[['seller_type', 'selling_price']].groupby('seller_type').mean()\n",
    "df_grouped.head()"
   ]
  },
  {
   "cell_type": "code",
   "execution_count": 66,
   "id": "141fec69",
   "metadata": {
    "ExecuteTime": {
     "end_time": "2022-08-07T15:44:32.743784Z",
     "start_time": "2022-08-07T15:44:32.730985Z"
    }
   },
   "outputs": [
    {
     "data": {
      "text/plain": [
       "Index(['id', 'name', 'selling_price', 'year', 'seller_type', 'owner',\n",
       "       'km_driven', 'ex_showroom_price', 'km_class'],\n",
       "      dtype='object')"
      ]
     },
     "execution_count": 66,
     "metadata": {},
     "output_type": "execute_result"
    }
   ],
   "source": [
    "df.columns"
   ]
  },
  {
   "cell_type": "markdown",
   "id": "ad09df8b",
   "metadata": {},
   "source": [
    "### 5. O CEO lhe entregou um novo dataset chamado companies.csv, onde estão todas as fabricantes de motocicletas. Adicione uma coluna no DataFrame com o nome de company. Essa coluna deve possuir o nome do fabricante de cada moto do DataFrame."
   ]
  },
  {
   "cell_type": "code",
   "execution_count": 67,
   "id": "e996cccd",
   "metadata": {
    "ExecuteTime": {
     "end_time": "2022-08-07T15:44:33.994849Z",
     "start_time": "2022-08-07T15:44:33.972944Z"
    }
   },
   "outputs": [
    {
     "data": {
      "text/html": [
       "<div>\n",
       "<style scoped>\n",
       "    .dataframe tbody tr th:only-of-type {\n",
       "        vertical-align: middle;\n",
       "    }\n",
       "\n",
       "    .dataframe tbody tr th {\n",
       "        vertical-align: top;\n",
       "    }\n",
       "\n",
       "    .dataframe thead th {\n",
       "        text-align: right;\n",
       "    }\n",
       "</style>\n",
       "<table border=\"1\" class=\"dataframe\">\n",
       "  <thead>\n",
       "    <tr style=\"text-align: right;\">\n",
       "      <th></th>\n",
       "      <th>Unnamed: 0</th>\n",
       "      <th>company_name</th>\n",
       "    </tr>\n",
       "  </thead>\n",
       "  <tbody>\n",
       "    <tr>\n",
       "      <th>0</th>\n",
       "      <td>0</td>\n",
       "      <td>Accura</td>\n",
       "    </tr>\n",
       "    <tr>\n",
       "      <th>1</th>\n",
       "      <td>1</td>\n",
       "      <td>Adventure Wheels</td>\n",
       "    </tr>\n",
       "    <tr>\n",
       "      <th>2</th>\n",
       "      <td>2</td>\n",
       "      <td>Altius</td>\n",
       "    </tr>\n",
       "    <tr>\n",
       "      <th>3</th>\n",
       "      <td>3</td>\n",
       "      <td>Amez</td>\n",
       "    </tr>\n",
       "    <tr>\n",
       "      <th>4</th>\n",
       "      <td>4</td>\n",
       "      <td>Ampere</td>\n",
       "    </tr>\n",
       "  </tbody>\n",
       "</table>\n",
       "</div>"
      ],
      "text/plain": [
       "   Unnamed: 0      company_name\n",
       "0           0            Accura\n",
       "1           1  Adventure Wheels\n",
       "2           2            Altius\n",
       "3           3              Amez\n",
       "4           4            Ampere"
      ]
     },
     "execution_count": 67,
     "metadata": {},
     "output_type": "execute_result"
    }
   ],
   "source": [
    "df_comp = pd.read_csv('csv/companies.csv')\n",
    "df_comp.head()"
   ]
  },
  {
   "cell_type": "code",
   "execution_count": 68,
   "id": "de7ca9b5",
   "metadata": {
    "ExecuteTime": {
     "end_time": "2022-08-07T15:44:34.698875Z",
     "start_time": "2022-08-07T15:44:34.689963Z"
    }
   },
   "outputs": [],
   "source": [
    "def create_company_name(companies, data):\n",
    "    for company in companies:\n",
    "        if company in data['name']:\n",
    "            return company"
   ]
  },
  {
   "cell_type": "code",
   "execution_count": 69,
   "id": "5feed41e",
   "metadata": {
    "ExecuteTime": {
     "end_time": "2022-08-07T15:44:35.350083Z",
     "start_time": "2022-08-07T15:44:35.341975Z"
    }
   },
   "outputs": [],
   "source": [
    "def create_sorted_companies_tuple(dataframe):\n",
    "    companies = dataframe['company_name'].to_list()\n",
    "    \n",
    "    \n",
    "    # Utilizando List Comprehensions\n",
    "    companies_aux = [ company.split(' ') for company in companies ]\n",
    "    \n",
    "    companies_aux.sort(key=len, reverse=True)\n",
    "    \n",
    "    sorted_companies = [ ' '.join(company) for company in companies_aux ]\n",
    "    \n",
    "    return tuple(sorted_companies)"
   ]
  },
  {
   "cell_type": "code",
   "execution_count": 70,
   "id": "9345b71b",
   "metadata": {
    "ExecuteTime": {
     "end_time": "2022-08-07T15:44:36.478501Z",
     "start_time": "2022-08-07T15:44:36.020919Z"
    }
   },
   "outputs": [
    {
     "data": {
      "text/html": [
       "<div>\n",
       "<style scoped>\n",
       "    .dataframe tbody tr th:only-of-type {\n",
       "        vertical-align: middle;\n",
       "    }\n",
       "\n",
       "    .dataframe tbody tr th {\n",
       "        vertical-align: top;\n",
       "    }\n",
       "\n",
       "    .dataframe thead th {\n",
       "        text-align: right;\n",
       "    }\n",
       "</style>\n",
       "<table border=\"1\" class=\"dataframe\">\n",
       "  <thead>\n",
       "    <tr style=\"text-align: right;\">\n",
       "      <th></th>\n",
       "      <th>id</th>\n",
       "      <th>name</th>\n",
       "      <th>selling_price</th>\n",
       "      <th>year</th>\n",
       "      <th>seller_type</th>\n",
       "      <th>owner</th>\n",
       "      <th>km_driven</th>\n",
       "      <th>ex_showroom_price</th>\n",
       "      <th>km_class</th>\n",
       "      <th>company</th>\n",
       "    </tr>\n",
       "  </thead>\n",
       "  <tbody>\n",
       "    <tr>\n",
       "      <th>0</th>\n",
       "      <td>0</td>\n",
       "      <td>Royal Enfield Classic 350</td>\n",
       "      <td>175000</td>\n",
       "      <td>2019</td>\n",
       "      <td>Individual</td>\n",
       "      <td>1st owner</td>\n",
       "      <td>350</td>\n",
       "      <td>NaN</td>\n",
       "      <td>1</td>\n",
       "      <td>Royal Enfield</td>\n",
       "    </tr>\n",
       "    <tr>\n",
       "      <th>1</th>\n",
       "      <td>1</td>\n",
       "      <td>Honda Dio</td>\n",
       "      <td>45000</td>\n",
       "      <td>2017</td>\n",
       "      <td>Individual</td>\n",
       "      <td>1st owner</td>\n",
       "      <td>5650</td>\n",
       "      <td>NaN</td>\n",
       "      <td>1</td>\n",
       "      <td>Honda</td>\n",
       "    </tr>\n",
       "    <tr>\n",
       "      <th>2</th>\n",
       "      <td>2</td>\n",
       "      <td>Royal Enfield Classic Gunmetal Grey</td>\n",
       "      <td>150000</td>\n",
       "      <td>2018</td>\n",
       "      <td>Individual</td>\n",
       "      <td>1st owner</td>\n",
       "      <td>12000</td>\n",
       "      <td>148114.0</td>\n",
       "      <td>1</td>\n",
       "      <td>Royal Enfield</td>\n",
       "    </tr>\n",
       "    <tr>\n",
       "      <th>3</th>\n",
       "      <td>3</td>\n",
       "      <td>Yamaha Fazer FI V 2.0 [2016-2018]</td>\n",
       "      <td>65000</td>\n",
       "      <td>2015</td>\n",
       "      <td>Individual</td>\n",
       "      <td>1st owner</td>\n",
       "      <td>23000</td>\n",
       "      <td>89643.0</td>\n",
       "      <td>2</td>\n",
       "      <td>Yamaha</td>\n",
       "    </tr>\n",
       "    <tr>\n",
       "      <th>4</th>\n",
       "      <td>4</td>\n",
       "      <td>Yamaha SZ [2013-2014]</td>\n",
       "      <td>20000</td>\n",
       "      <td>2011</td>\n",
       "      <td>Individual</td>\n",
       "      <td>2nd owner</td>\n",
       "      <td>21000</td>\n",
       "      <td>NaN</td>\n",
       "      <td>2</td>\n",
       "      <td>Yamaha</td>\n",
       "    </tr>\n",
       "  </tbody>\n",
       "</table>\n",
       "</div>"
      ],
      "text/plain": [
       "   id                                 name  selling_price  year seller_type  \\\n",
       "0   0            Royal Enfield Classic 350         175000  2019  Individual   \n",
       "1   1                            Honda Dio          45000  2017  Individual   \n",
       "2   2  Royal Enfield Classic Gunmetal Grey         150000  2018  Individual   \n",
       "3   3    Yamaha Fazer FI V 2.0 [2016-2018]          65000  2015  Individual   \n",
       "4   4                Yamaha SZ [2013-2014]          20000  2011  Individual   \n",
       "\n",
       "       owner  km_driven  ex_showroom_price  km_class        company  \n",
       "0  1st owner        350                NaN         1  Royal Enfield  \n",
       "1  1st owner       5650                NaN         1          Honda  \n",
       "2  1st owner      12000           148114.0         1  Royal Enfield  \n",
       "3  1st owner      23000            89643.0         2         Yamaha  \n",
       "4  2nd owner      21000                NaN         2         Yamaha  "
      ]
     },
     "execution_count": 70,
     "metadata": {},
     "output_type": "execute_result"
    }
   ],
   "source": [
    "# Método novo\n",
    "companies_tuple = create_sorted_companies_tuple(df_comp)\n",
    "\n",
    "\n",
    "# Criando a coluna `company` no DataFrame\n",
    "df['company'] = df.apply(lambda line: create_company_name(companies_tuple, line), axis=1)\n",
    "\n",
    "df.head()"
   ]
  },
  {
   "cell_type": "markdown",
   "id": "82770abe",
   "metadata": {},
   "source": [
    "### 6. Crie um novo dataset chamado bikes_completed.csv a partir do DataFrame com a coluna company preenchida."
   ]
  },
  {
   "cell_type": "code",
   "execution_count": 71,
   "id": "b44bf409",
   "metadata": {
    "ExecuteTime": {
     "end_time": "2022-08-07T15:44:38.507023Z",
     "start_time": "2022-08-07T15:44:38.485111Z"
    }
   },
   "outputs": [],
   "source": [
    "df.to_csv('csv/bikes_completed.csv', index=False)"
   ]
  },
  {
   "cell_type": "markdown",
   "id": "a7498ac4",
   "metadata": {},
   "source": [
    "### 7. Quais são so fabricantes que mais possuem motos cadastradas na base de dados completa?"
   ]
  },
  {
   "cell_type": "code",
   "execution_count": 72,
   "id": "2703e3d5",
   "metadata": {
    "ExecuteTime": {
     "end_time": "2022-08-07T15:44:40.807260Z",
     "start_time": "2022-08-07T15:44:40.785725Z"
    }
   },
   "outputs": [
    {
     "data": {
      "text/html": [
       "<div>\n",
       "<style scoped>\n",
       "    .dataframe tbody tr th:only-of-type {\n",
       "        vertical-align: middle;\n",
       "    }\n",
       "\n",
       "    .dataframe tbody tr th {\n",
       "        vertical-align: top;\n",
       "    }\n",
       "\n",
       "    .dataframe thead th {\n",
       "        text-align: right;\n",
       "    }\n",
       "</style>\n",
       "<table border=\"1\" class=\"dataframe\">\n",
       "  <thead>\n",
       "    <tr style=\"text-align: right;\">\n",
       "      <th></th>\n",
       "      <th>company</th>\n",
       "      <th>id</th>\n",
       "    </tr>\n",
       "  </thead>\n",
       "  <tbody>\n",
       "    <tr>\n",
       "      <th>0</th>\n",
       "      <td>Bajaj</td>\n",
       "      <td>260</td>\n",
       "    </tr>\n",
       "    <tr>\n",
       "      <th>1</th>\n",
       "      <td>Honda</td>\n",
       "      <td>204</td>\n",
       "    </tr>\n",
       "    <tr>\n",
       "      <th>2</th>\n",
       "      <td>Hero</td>\n",
       "      <td>144</td>\n",
       "    </tr>\n",
       "    <tr>\n",
       "      <th>3</th>\n",
       "      <td>Royal Enfield</td>\n",
       "      <td>109</td>\n",
       "    </tr>\n",
       "    <tr>\n",
       "      <th>4</th>\n",
       "      <td>Yamaha</td>\n",
       "      <td>101</td>\n",
       "    </tr>\n",
       "    <tr>\n",
       "      <th>5</th>\n",
       "      <td>Hero Honda</td>\n",
       "      <td>88</td>\n",
       "    </tr>\n",
       "    <tr>\n",
       "      <th>6</th>\n",
       "      <td>TVS</td>\n",
       "      <td>69</td>\n",
       "    </tr>\n",
       "    <tr>\n",
       "      <th>7</th>\n",
       "      <td>Suzuki</td>\n",
       "      <td>29</td>\n",
       "    </tr>\n",
       "    <tr>\n",
       "      <th>8</th>\n",
       "      <td>KTM</td>\n",
       "      <td>24</td>\n",
       "    </tr>\n",
       "    <tr>\n",
       "      <th>9</th>\n",
       "      <td>Mahindra</td>\n",
       "      <td>6</td>\n",
       "    </tr>\n",
       "    <tr>\n",
       "      <th>10</th>\n",
       "      <td>Vespa</td>\n",
       "      <td>4</td>\n",
       "    </tr>\n",
       "    <tr>\n",
       "      <th>11</th>\n",
       "      <td>Activa</td>\n",
       "      <td>3</td>\n",
       "    </tr>\n",
       "    <tr>\n",
       "      <th>12</th>\n",
       "      <td>UM</td>\n",
       "      <td>3</td>\n",
       "    </tr>\n",
       "    <tr>\n",
       "      <th>13</th>\n",
       "      <td>Jawa</td>\n",
       "      <td>3</td>\n",
       "    </tr>\n",
       "    <tr>\n",
       "      <th>14</th>\n",
       "      <td>Kawasaki</td>\n",
       "      <td>3</td>\n",
       "    </tr>\n",
       "    <tr>\n",
       "      <th>15</th>\n",
       "      <td>Aprilia</td>\n",
       "      <td>2</td>\n",
       "    </tr>\n",
       "    <tr>\n",
       "      <th>16</th>\n",
       "      <td>Hyosung</td>\n",
       "      <td>1</td>\n",
       "    </tr>\n",
       "    <tr>\n",
       "      <th>17</th>\n",
       "      <td>Harley-Davidson</td>\n",
       "      <td>1</td>\n",
       "    </tr>\n",
       "    <tr>\n",
       "      <th>18</th>\n",
       "      <td>Benelli</td>\n",
       "      <td>1</td>\n",
       "    </tr>\n",
       "    <tr>\n",
       "      <th>19</th>\n",
       "      <td>BMW</td>\n",
       "      <td>1</td>\n",
       "    </tr>\n",
       "    <tr>\n",
       "      <th>20</th>\n",
       "      <td>Yo</td>\n",
       "      <td>1</td>\n",
       "    </tr>\n",
       "  </tbody>\n",
       "</table>\n",
       "</div>"
      ],
      "text/plain": [
       "            company   id\n",
       "0             Bajaj  260\n",
       "1             Honda  204\n",
       "2              Hero  144\n",
       "3     Royal Enfield  109\n",
       "4            Yamaha  101\n",
       "5        Hero Honda   88\n",
       "6               TVS   69\n",
       "7            Suzuki   29\n",
       "8               KTM   24\n",
       "9          Mahindra    6\n",
       "10            Vespa    4\n",
       "11           Activa    3\n",
       "12               UM    3\n",
       "13             Jawa    3\n",
       "14         Kawasaki    3\n",
       "15          Aprilia    2\n",
       "16          Hyosung    1\n",
       "17  Harley-Davidson    1\n",
       "18          Benelli    1\n",
       "19              BMW    1\n",
       "20               Yo    1"
      ]
     },
     "execution_count": 72,
     "metadata": {},
     "output_type": "execute_result"
    }
   ],
   "source": [
    "df_grouped = df[['company', 'id']].groupby('company').count().sort_values('id', ascending=False).reset_index()\n",
    "df_grouped"
   ]
  },
  {
   "cell_type": "markdown",
   "id": "fd758471",
   "metadata": {},
   "source": [
    "## Novas Perguntas"
   ]
  },
  {
   "cell_type": "markdown",
   "id": "f5c5d26c",
   "metadata": {},
   "source": [
    "Após analisar as respostas das perguntas anteriores, o CEO da XGB Sales lhe fez mais algumas perguntas:"
   ]
  },
  {
   "cell_type": "markdown",
   "id": "09c3675e",
   "metadata": {},
   "source": [
    "### 1. Ajustar a coluna `name` para que ela fique somente com o nome da moto."
   ]
  },
  {
   "cell_type": "code",
   "execution_count": 73,
   "id": "2424d798",
   "metadata": {
    "ExecuteTime": {
     "end_time": "2022-08-07T15:44:45.699101Z",
     "start_time": "2022-08-07T15:44:45.600799Z"
    }
   },
   "outputs": [
    {
     "data": {
      "text/html": [
       "<div>\n",
       "<style scoped>\n",
       "    .dataframe tbody tr th:only-of-type {\n",
       "        vertical-align: middle;\n",
       "    }\n",
       "\n",
       "    .dataframe tbody tr th {\n",
       "        vertical-align: top;\n",
       "    }\n",
       "\n",
       "    .dataframe thead th {\n",
       "        text-align: right;\n",
       "    }\n",
       "</style>\n",
       "<table border=\"1\" class=\"dataframe\">\n",
       "  <thead>\n",
       "    <tr style=\"text-align: right;\">\n",
       "      <th></th>\n",
       "      <th>id</th>\n",
       "      <th>name</th>\n",
       "      <th>selling_price</th>\n",
       "      <th>year</th>\n",
       "      <th>seller_type</th>\n",
       "      <th>owner</th>\n",
       "      <th>km_driven</th>\n",
       "      <th>ex_showroom_price</th>\n",
       "      <th>km_class</th>\n",
       "      <th>company</th>\n",
       "    </tr>\n",
       "  </thead>\n",
       "  <tbody>\n",
       "    <tr>\n",
       "      <th>0</th>\n",
       "      <td>0</td>\n",
       "      <td>Classic 350</td>\n",
       "      <td>175000</td>\n",
       "      <td>2019</td>\n",
       "      <td>Individual</td>\n",
       "      <td>1st owner</td>\n",
       "      <td>350</td>\n",
       "      <td>NaN</td>\n",
       "      <td>1</td>\n",
       "      <td>Royal Enfield</td>\n",
       "    </tr>\n",
       "    <tr>\n",
       "      <th>1</th>\n",
       "      <td>1</td>\n",
       "      <td>Dio</td>\n",
       "      <td>45000</td>\n",
       "      <td>2017</td>\n",
       "      <td>Individual</td>\n",
       "      <td>1st owner</td>\n",
       "      <td>5650</td>\n",
       "      <td>NaN</td>\n",
       "      <td>1</td>\n",
       "      <td>Honda</td>\n",
       "    </tr>\n",
       "    <tr>\n",
       "      <th>2</th>\n",
       "      <td>2</td>\n",
       "      <td>Classic Gunmetal Grey</td>\n",
       "      <td>150000</td>\n",
       "      <td>2018</td>\n",
       "      <td>Individual</td>\n",
       "      <td>1st owner</td>\n",
       "      <td>12000</td>\n",
       "      <td>148114.0</td>\n",
       "      <td>1</td>\n",
       "      <td>Royal Enfield</td>\n",
       "    </tr>\n",
       "    <tr>\n",
       "      <th>3</th>\n",
       "      <td>3</td>\n",
       "      <td>Fazer FI V 2.0 [2016-2018]</td>\n",
       "      <td>65000</td>\n",
       "      <td>2015</td>\n",
       "      <td>Individual</td>\n",
       "      <td>1st owner</td>\n",
       "      <td>23000</td>\n",
       "      <td>89643.0</td>\n",
       "      <td>2</td>\n",
       "      <td>Yamaha</td>\n",
       "    </tr>\n",
       "    <tr>\n",
       "      <th>4</th>\n",
       "      <td>4</td>\n",
       "      <td>SZ [2013-2014]</td>\n",
       "      <td>20000</td>\n",
       "      <td>2011</td>\n",
       "      <td>Individual</td>\n",
       "      <td>2nd owner</td>\n",
       "      <td>21000</td>\n",
       "      <td>NaN</td>\n",
       "      <td>2</td>\n",
       "      <td>Yamaha</td>\n",
       "    </tr>\n",
       "  </tbody>\n",
       "</table>\n",
       "</div>"
      ],
      "text/plain": [
       "   id                         name  selling_price  year seller_type  \\\n",
       "0   0                  Classic 350         175000  2019  Individual   \n",
       "1   1                          Dio          45000  2017  Individual   \n",
       "2   2        Classic Gunmetal Grey         150000  2018  Individual   \n",
       "3   3   Fazer FI V 2.0 [2016-2018]          65000  2015  Individual   \n",
       "4   4               SZ [2013-2014]          20000  2011  Individual   \n",
       "\n",
       "       owner  km_driven  ex_showroom_price  km_class        company  \n",
       "0  1st owner        350                NaN         1  Royal Enfield  \n",
       "1  1st owner       5650                NaN         1          Honda  \n",
       "2  1st owner      12000           148114.0         1  Royal Enfield  \n",
       "3  1st owner      23000            89643.0         2         Yamaha  \n",
       "4  2nd owner      21000                NaN         2         Yamaha  "
      ]
     },
     "execution_count": 73,
     "metadata": {},
     "output_type": "execute_result"
    }
   ],
   "source": [
    "df['name'] = df.apply(lambda line: line['name'].replace(line['company'], ''), axis=1)\n",
    "df.head()"
   ]
  },
  {
   "cell_type": "markdown",
   "id": "ab2bf7fb",
   "metadata": {},
   "source": [
    "### 2. Qual das fabricantes possui o maior preço médio de suas motos?"
   ]
  },
  {
   "cell_type": "code",
   "execution_count": 74,
   "id": "9013daf6",
   "metadata": {
    "ExecuteTime": {
     "end_time": "2022-08-07T15:44:49.613367Z",
     "start_time": "2022-08-07T15:44:49.590250Z"
    }
   },
   "outputs": [
    {
     "data": {
      "text/html": [
       "<div>\n",
       "<style scoped>\n",
       "    .dataframe tbody tr th:only-of-type {\n",
       "        vertical-align: middle;\n",
       "    }\n",
       "\n",
       "    .dataframe tbody tr th {\n",
       "        vertical-align: top;\n",
       "    }\n",
       "\n",
       "    .dataframe thead th {\n",
       "        text-align: right;\n",
       "    }\n",
       "</style>\n",
       "<table border=\"1\" class=\"dataframe\">\n",
       "  <thead>\n",
       "    <tr style=\"text-align: right;\">\n",
       "      <th></th>\n",
       "      <th>selling_price</th>\n",
       "    </tr>\n",
       "    <tr>\n",
       "      <th>company</th>\n",
       "      <th></th>\n",
       "    </tr>\n",
       "  </thead>\n",
       "  <tbody>\n",
       "    <tr>\n",
       "      <th>Harley-Davidson</th>\n",
       "      <td>330000.000000</td>\n",
       "    </tr>\n",
       "    <tr>\n",
       "      <th>BMW</th>\n",
       "      <td>300000.000000</td>\n",
       "    </tr>\n",
       "    <tr>\n",
       "      <th>Kawasaki</th>\n",
       "      <td>241666.666667</td>\n",
       "    </tr>\n",
       "    <tr>\n",
       "      <th>Jawa</th>\n",
       "      <td>175000.000000</td>\n",
       "    </tr>\n",
       "    <tr>\n",
       "      <th>Benelli</th>\n",
       "      <td>160000.000000</td>\n",
       "    </tr>\n",
       "    <tr>\n",
       "      <th>UM</th>\n",
       "      <td>156666.666667</td>\n",
       "    </tr>\n",
       "    <tr>\n",
       "      <th>KTM</th>\n",
       "      <td>155708.333333</td>\n",
       "    </tr>\n",
       "    <tr>\n",
       "      <th>Hyosung</th>\n",
       "      <td>135000.000000</td>\n",
       "    </tr>\n",
       "    <tr>\n",
       "      <th>Royal Enfield</th>\n",
       "      <td>128549.541284</td>\n",
       "    </tr>\n",
       "    <tr>\n",
       "      <th>Aprilia</th>\n",
       "      <td>70000.000000</td>\n",
       "    </tr>\n",
       "    <tr>\n",
       "      <th>Vespa</th>\n",
       "      <td>68250.000000</td>\n",
       "    </tr>\n",
       "    <tr>\n",
       "      <th>Mahindra</th>\n",
       "      <td>62833.333333</td>\n",
       "    </tr>\n",
       "    <tr>\n",
       "      <th>Yamaha</th>\n",
       "      <td>60673.267327</td>\n",
       "    </tr>\n",
       "    <tr>\n",
       "      <th>Suzuki</th>\n",
       "      <td>50137.931034</td>\n",
       "    </tr>\n",
       "    <tr>\n",
       "      <th>TVS</th>\n",
       "      <td>46374.014493</td>\n",
       "    </tr>\n",
       "    <tr>\n",
       "      <th>Bajaj</th>\n",
       "      <td>44990.380769</td>\n",
       "    </tr>\n",
       "    <tr>\n",
       "      <th>Honda</th>\n",
       "      <td>44916.044118</td>\n",
       "    </tr>\n",
       "    <tr>\n",
       "      <th>Hero</th>\n",
       "      <td>40762.500000</td>\n",
       "    </tr>\n",
       "    <tr>\n",
       "      <th>Activa</th>\n",
       "      <td>34000.000000</td>\n",
       "    </tr>\n",
       "    <tr>\n",
       "      <th>Hero Honda</th>\n",
       "      <td>24525.000000</td>\n",
       "    </tr>\n",
       "    <tr>\n",
       "      <th>Yo</th>\n",
       "      <td>20000.000000</td>\n",
       "    </tr>\n",
       "  </tbody>\n",
       "</table>\n",
       "</div>"
      ],
      "text/plain": [
       "                 selling_price\n",
       "company                       \n",
       "Harley-Davidson  330000.000000\n",
       "BMW              300000.000000\n",
       "Kawasaki         241666.666667\n",
       "Jawa             175000.000000\n",
       "Benelli          160000.000000\n",
       "UM               156666.666667\n",
       "KTM              155708.333333\n",
       "Hyosung          135000.000000\n",
       "Royal Enfield    128549.541284\n",
       "Aprilia           70000.000000\n",
       "Vespa             68250.000000\n",
       "Mahindra          62833.333333\n",
       "Yamaha            60673.267327\n",
       "Suzuki            50137.931034\n",
       "TVS               46374.014493\n",
       "Bajaj             44990.380769\n",
       "Honda             44916.044118\n",
       "Hero              40762.500000\n",
       "Activa            34000.000000\n",
       "Hero Honda        24525.000000\n",
       "Yo                20000.000000"
      ]
     },
     "execution_count": 74,
     "metadata": {},
     "output_type": "execute_result"
    }
   ],
   "source": [
    "df_grouped = df[['company', 'selling_price']].groupby('company').mean().sort_values('selling_price', ascending=False)\n",
    "df_grouped"
   ]
  },
  {
   "cell_type": "markdown",
   "id": "02d1163f",
   "metadata": {},
   "source": [
    "### 3. Qual o fabricante que possui a moto com o maior quilometragem?"
   ]
  },
  {
   "cell_type": "code",
   "execution_count": 77,
   "id": "737cadf1",
   "metadata": {
    "ExecuteTime": {
     "end_time": "2022-08-07T15:46:54.075085Z",
     "start_time": "2022-08-07T15:46:33.543442Z"
    }
   },
   "outputs": [
    {
     "data": {
      "image/png": "[encoded data removed]",
      "text/plain": [
       "<Figure size 1296x720 with 1 Axes>"
      ]
     },
     "metadata": {
      "needs_background": "light"
     },
     "output_type": "display_data"
    }
   ],
   "source": [
    "plt.xticks(rotation=90)\n",
    "sns.barplot( x= 'name', y= 'km_driven', data=df);"
   ]
  },
  {
   "cell_type": "code",
   "execution_count": 81,
   "id": "855f4192",
   "metadata": {
    "ExecuteTime": {
     "end_time": "2022-08-07T15:49:30.857279Z",
     "start_time": "2022-08-07T15:49:30.081228Z"
    }
   },
   "outputs": [
    {
     "data": {
      "image/png": "[encoded data removed]",
      "text/plain": [
       "<Figure size 1296x720 with 1 Axes>"
      ]
     },
     "metadata": {
      "needs_background": "light"
     },
     "output_type": "display_data"
    }
   ],
   "source": [
    "df = df[(df['km_driven'] < 50000)]\n",
    "\n",
    "plt.xticks(rotation=90)\n",
    "sns.boxplot( x= 'company', y= 'km_driven', data=df);\n",
    "\n",
    "# plt.subplot( 2, 2, 2)\n",
    "# sns.boxplot( x= 'owner', y= 'km_driven', data=df)"
   ]
  },
  {
   "cell_type": "code",
   "execution_count": 82,
   "id": "abe65ac9",
   "metadata": {
    "ExecuteTime": {
     "end_time": "2022-08-07T15:49:44.802732Z",
     "start_time": "2022-08-07T15:49:44.787851Z"
    }
   },
   "outputs": [
    {
     "data": {
      "text/html": [
       "<div>\n",
       "<style scoped>\n",
       "    .dataframe tbody tr th:only-of-type {\n",
       "        vertical-align: middle;\n",
       "    }\n",
       "\n",
       "    .dataframe tbody tr th {\n",
       "        vertical-align: top;\n",
       "    }\n",
       "\n",
       "    .dataframe thead th {\n",
       "        text-align: right;\n",
       "    }\n",
       "</style>\n",
       "<table border=\"1\" class=\"dataframe\">\n",
       "  <thead>\n",
       "    <tr style=\"text-align: right;\">\n",
       "      <th></th>\n",
       "      <th>km_driven</th>\n",
       "    </tr>\n",
       "    <tr>\n",
       "      <th>company</th>\n",
       "      <th></th>\n",
       "    </tr>\n",
       "  </thead>\n",
       "  <tbody>\n",
       "    <tr>\n",
       "      <th>Hero Honda</th>\n",
       "      <td>49999</td>\n",
       "    </tr>\n",
       "    <tr>\n",
       "      <th>Hero</th>\n",
       "      <td>49637</td>\n",
       "    </tr>\n",
       "    <tr>\n",
       "      <th>Honda</th>\n",
       "      <td>49000</td>\n",
       "    </tr>\n",
       "    <tr>\n",
       "      <th>Royal Enfield</th>\n",
       "      <td>49000</td>\n",
       "    </tr>\n",
       "    <tr>\n",
       "      <th>TVS</th>\n",
       "      <td>49000</td>\n",
       "    </tr>\n",
       "    <tr>\n",
       "      <th>Bajaj</th>\n",
       "      <td>48000</td>\n",
       "    </tr>\n",
       "    <tr>\n",
       "      <th>Yamaha</th>\n",
       "      <td>46000</td>\n",
       "    </tr>\n",
       "    <tr>\n",
       "      <th>Suzuki</th>\n",
       "      <td>43000</td>\n",
       "    </tr>\n",
       "    <tr>\n",
       "      <th>UM</th>\n",
       "      <td>40000</td>\n",
       "    </tr>\n",
       "    <tr>\n",
       "      <th>KTM</th>\n",
       "      <td>36500</td>\n",
       "    </tr>\n",
       "    <tr>\n",
       "      <th>Mahindra</th>\n",
       "      <td>35000</td>\n",
       "    </tr>\n",
       "    <tr>\n",
       "      <th>Kawasaki</th>\n",
       "      <td>21000</td>\n",
       "    </tr>\n",
       "    <tr>\n",
       "      <th>Vespa</th>\n",
       "      <td>18803</td>\n",
       "    </tr>\n",
       "    <tr>\n",
       "      <th>Hyosung</th>\n",
       "      <td>16500</td>\n",
       "    </tr>\n",
       "    <tr>\n",
       "      <th>Yo</th>\n",
       "      <td>10000</td>\n",
       "    </tr>\n",
       "    <tr>\n",
       "      <th>Harley-Davidson</th>\n",
       "      <td>6500</td>\n",
       "    </tr>\n",
       "    <tr>\n",
       "      <th>Aprilia</th>\n",
       "      <td>6500</td>\n",
       "    </tr>\n",
       "    <tr>\n",
       "      <th>Jawa</th>\n",
       "      <td>5700</td>\n",
       "    </tr>\n",
       "    <tr>\n",
       "      <th>BMW</th>\n",
       "      <td>2500</td>\n",
       "    </tr>\n",
       "    <tr>\n",
       "      <th>Benelli</th>\n",
       "      <td>2009</td>\n",
       "    </tr>\n",
       "    <tr>\n",
       "      <th>Activa</th>\n",
       "      <td>1300</td>\n",
       "    </tr>\n",
       "  </tbody>\n",
       "</table>\n",
       "</div>"
      ],
      "text/plain": [
       "                 km_driven\n",
       "company                   \n",
       "Hero Honda           49999\n",
       "Hero                 49637\n",
       "Honda                49000\n",
       "Royal Enfield        49000\n",
       "TVS                  49000\n",
       "Bajaj                48000\n",
       "Yamaha               46000\n",
       "Suzuki               43000\n",
       "UM                   40000\n",
       "KTM                  36500\n",
       "Mahindra             35000\n",
       "Kawasaki             21000\n",
       "Vespa                18803\n",
       "Hyosung              16500\n",
       "Yo                   10000\n",
       "Harley-Davidson       6500\n",
       "Aprilia               6500\n",
       "Jawa                  5700\n",
       "BMW                   2500\n",
       "Benelli               2009\n",
       "Activa                1300"
      ]
     },
     "execution_count": 82,
     "metadata": {},
     "output_type": "execute_result"
    }
   ],
   "source": [
    "df_grouped = df[['company', 'km_driven']].groupby('company').max().sort_values('km_driven', ascending=False)\n",
    "df_grouped"
   ]
  },
  {
   "cell_type": "markdown",
   "id": "2b6f2b39",
   "metadata": {},
   "source": [
    "### 4. Qual o fabricante que possui a moto mais velha?"
   ]
  },
  {
   "cell_type": "code",
   "execution_count": 52,
   "id": "5772e41e",
   "metadata": {
    "ExecuteTime": {
     "end_time": "2022-08-05T20:51:18.291976Z",
     "start_time": "2022-08-05T20:51:18.269756Z"
    }
   },
   "outputs": [
    {
     "data": {
      "text/html": [
       "<div>\n",
       "<style scoped>\n",
       "    .dataframe tbody tr th:only-of-type {\n",
       "        vertical-align: middle;\n",
       "    }\n",
       "\n",
       "    .dataframe tbody tr th {\n",
       "        vertical-align: top;\n",
       "    }\n",
       "\n",
       "    .dataframe thead th {\n",
       "        text-align: right;\n",
       "    }\n",
       "</style>\n",
       "<table border=\"1\" class=\"dataframe\">\n",
       "  <thead>\n",
       "    <tr style=\"text-align: right;\">\n",
       "      <th></th>\n",
       "      <th>year</th>\n",
       "    </tr>\n",
       "    <tr>\n",
       "      <th>company</th>\n",
       "      <th></th>\n",
       "    </tr>\n",
       "  </thead>\n",
       "  <tbody>\n",
       "    <tr>\n",
       "      <th>Bajaj</th>\n",
       "      <td>1988</td>\n",
       "    </tr>\n",
       "    <tr>\n",
       "      <th>Royal Enfield</th>\n",
       "      <td>1993</td>\n",
       "    </tr>\n",
       "    <tr>\n",
       "      <th>Hero Honda</th>\n",
       "      <td>1997</td>\n",
       "    </tr>\n",
       "    <tr>\n",
       "      <th>Yamaha</th>\n",
       "      <td>1997</td>\n",
       "    </tr>\n",
       "    <tr>\n",
       "      <th>TVS</th>\n",
       "      <td>1998</td>\n",
       "    </tr>\n",
       "    <tr>\n",
       "      <th>Hero</th>\n",
       "      <td>2005</td>\n",
       "    </tr>\n",
       "    <tr>\n",
       "      <th>Honda</th>\n",
       "      <td>2006</td>\n",
       "    </tr>\n",
       "    <tr>\n",
       "      <th>Mahindra</th>\n",
       "      <td>2009</td>\n",
       "    </tr>\n",
       "    <tr>\n",
       "      <th>Activa</th>\n",
       "      <td>2010</td>\n",
       "    </tr>\n",
       "    <tr>\n",
       "      <th>Suzuki</th>\n",
       "      <td>2010</td>\n",
       "    </tr>\n",
       "    <tr>\n",
       "      <th>Kawasaki</th>\n",
       "      <td>2010</td>\n",
       "    </tr>\n",
       "    <tr>\n",
       "      <th>Yo</th>\n",
       "      <td>2011</td>\n",
       "    </tr>\n",
       "    <tr>\n",
       "      <th>Harley-Davidson</th>\n",
       "      <td>2013</td>\n",
       "    </tr>\n",
       "    <tr>\n",
       "      <th>Vespa</th>\n",
       "      <td>2013</td>\n",
       "    </tr>\n",
       "    <tr>\n",
       "      <th>KTM</th>\n",
       "      <td>2013</td>\n",
       "    </tr>\n",
       "    <tr>\n",
       "      <th>Hyosung</th>\n",
       "      <td>2016</td>\n",
       "    </tr>\n",
       "    <tr>\n",
       "      <th>Benelli</th>\n",
       "      <td>2017</td>\n",
       "    </tr>\n",
       "    <tr>\n",
       "      <th>UM</th>\n",
       "      <td>2017</td>\n",
       "    </tr>\n",
       "    <tr>\n",
       "      <th>BMW</th>\n",
       "      <td>2018</td>\n",
       "    </tr>\n",
       "    <tr>\n",
       "      <th>Aprilia</th>\n",
       "      <td>2018</td>\n",
       "    </tr>\n",
       "    <tr>\n",
       "      <th>Jawa</th>\n",
       "      <td>2019</td>\n",
       "    </tr>\n",
       "  </tbody>\n",
       "</table>\n",
       "</div>"
      ],
      "text/plain": [
       "                 year\n",
       "company              \n",
       "Bajaj            1988\n",
       "Royal Enfield    1993\n",
       "Hero Honda       1997\n",
       "Yamaha           1997\n",
       "TVS              1998\n",
       "Hero             2005\n",
       "Honda            2006\n",
       "Mahindra         2009\n",
       "Activa           2010\n",
       "Suzuki           2010\n",
       "Kawasaki         2010\n",
       "Yo               2011\n",
       "Harley-Davidson  2013\n",
       "Vespa            2013\n",
       "KTM              2013\n",
       "Hyosung          2016\n",
       "Benelli          2017\n",
       "UM               2017\n",
       "BMW              2018\n",
       "Aprilia          2018\n",
       "Jawa             2019"
      ]
     },
     "execution_count": 52,
     "metadata": {},
     "output_type": "execute_result"
    }
   ],
   "source": [
    "df_grouped = df[['company', 'year']].groupby('company').min().sort_values('year', ascending=True)\n",
    "df_grouped"
   ]
  },
  {
   "cell_type": "markdown",
   "id": "012ca48a",
   "metadata": {},
   "source": [
    "### 5. O fabricante que possui a moto mais cara do Dataset é também o fabricante que possui menos motos cadastradas?"
   ]
  },
  {
   "cell_type": "code",
   "execution_count": 53,
   "id": "6d2c60a5",
   "metadata": {
    "ExecuteTime": {
     "end_time": "2022-08-05T20:51:19.302815Z",
     "start_time": "2022-08-05T20:51:19.288900Z"
    }
   },
   "outputs": [
    {
     "data": {
      "text/html": [
       "<div>\n",
       "<style scoped>\n",
       "    .dataframe tbody tr th:only-of-type {\n",
       "        vertical-align: middle;\n",
       "    }\n",
       "\n",
       "    .dataframe tbody tr th {\n",
       "        vertical-align: top;\n",
       "    }\n",
       "\n",
       "    .dataframe thead th {\n",
       "        text-align: right;\n",
       "    }\n",
       "</style>\n",
       "<table border=\"1\" class=\"dataframe\">\n",
       "  <thead>\n",
       "    <tr style=\"text-align: right;\">\n",
       "      <th></th>\n",
       "      <th>selling_price</th>\n",
       "    </tr>\n",
       "    <tr>\n",
       "      <th>company</th>\n",
       "      <th></th>\n",
       "    </tr>\n",
       "  </thead>\n",
       "  <tbody>\n",
       "    <tr>\n",
       "      <th>Suzuki</th>\n",
       "      <td>760000</td>\n",
       "    </tr>\n",
       "    <tr>\n",
       "      <th>Harley-Davidson</th>\n",
       "      <td>750000</td>\n",
       "    </tr>\n",
       "    <tr>\n",
       "      <th>Kawasaki</th>\n",
       "      <td>425000</td>\n",
       "    </tr>\n",
       "    <tr>\n",
       "      <th>Yamaha</th>\n",
       "      <td>365000</td>\n",
       "    </tr>\n",
       "    <tr>\n",
       "      <th>BMW</th>\n",
       "      <td>300000</td>\n",
       "    </tr>\n",
       "    <tr>\n",
       "      <th>Royal Enfield</th>\n",
       "      <td>299000</td>\n",
       "    </tr>\n",
       "    <tr>\n",
       "      <th>KTM</th>\n",
       "      <td>270000</td>\n",
       "    </tr>\n",
       "    <tr>\n",
       "      <th>Bajaj</th>\n",
       "      <td>200000</td>\n",
       "    </tr>\n",
       "    <tr>\n",
       "      <th>TVS</th>\n",
       "      <td>200000</td>\n",
       "    </tr>\n",
       "    <tr>\n",
       "      <th>Honda</th>\n",
       "      <td>200000</td>\n",
       "    </tr>\n",
       "    <tr>\n",
       "      <th>Jawa</th>\n",
       "      <td>185000</td>\n",
       "    </tr>\n",
       "    <tr>\n",
       "      <th>UM</th>\n",
       "      <td>170000</td>\n",
       "    </tr>\n",
       "    <tr>\n",
       "      <th>Mahindra</th>\n",
       "      <td>165000</td>\n",
       "    </tr>\n",
       "    <tr>\n",
       "      <th>Benelli</th>\n",
       "      <td>160000</td>\n",
       "    </tr>\n",
       "    <tr>\n",
       "      <th>Hyosung</th>\n",
       "      <td>135000</td>\n",
       "    </tr>\n",
       "    <tr>\n",
       "      <th>Hero</th>\n",
       "      <td>105000</td>\n",
       "    </tr>\n",
       "    <tr>\n",
       "      <th>Vespa</th>\n",
       "      <td>98000</td>\n",
       "    </tr>\n",
       "    <tr>\n",
       "      <th>Aprilia</th>\n",
       "      <td>75000</td>\n",
       "    </tr>\n",
       "    <tr>\n",
       "      <th>Hero Honda</th>\n",
       "      <td>58000</td>\n",
       "    </tr>\n",
       "    <tr>\n",
       "      <th>Activa</th>\n",
       "      <td>45000</td>\n",
       "    </tr>\n",
       "    <tr>\n",
       "      <th>Yo</th>\n",
       "      <td>20000</td>\n",
       "    </tr>\n",
       "  </tbody>\n",
       "</table>\n",
       "</div>"
      ],
      "text/plain": [
       "                 selling_price\n",
       "company                       \n",
       "Suzuki                  760000\n",
       "Harley-Davidson         750000\n",
       "Kawasaki                425000\n",
       "Yamaha                  365000\n",
       "BMW                     300000\n",
       "Royal Enfield           299000\n",
       "KTM                     270000\n",
       "Bajaj                   200000\n",
       "TVS                     200000\n",
       "Honda                   200000\n",
       "Jawa                    185000\n",
       "UM                      170000\n",
       "Mahindra                165000\n",
       "Benelli                 160000\n",
       "Hyosung                 135000\n",
       "Hero                    105000\n",
       "Vespa                    98000\n",
       "Aprilia                  75000\n",
       "Hero Honda               58000\n",
       "Activa                   45000\n",
       "Yo                       20000"
      ]
     },
     "execution_count": 53,
     "metadata": {},
     "output_type": "execute_result"
    }
   ],
   "source": [
    "df_grouped = df[['company', 'selling_price']].groupby('company').max().sort_values('selling_price', ascending=False)\n",
    "df_grouped"
   ]
  },
  {
   "cell_type": "code",
   "execution_count": 54,
   "id": "59ba89d9",
   "metadata": {
    "ExecuteTime": {
     "end_time": "2022-08-05T20:51:19.826071Z",
     "start_time": "2022-08-05T20:51:19.793089Z"
    }
   },
   "outputs": [
    {
     "data": {
      "text/html": [
       "<div>\n",
       "<style scoped>\n",
       "    .dataframe tbody tr th:only-of-type {\n",
       "        vertical-align: middle;\n",
       "    }\n",
       "\n",
       "    .dataframe tbody tr th {\n",
       "        vertical-align: top;\n",
       "    }\n",
       "\n",
       "    .dataframe thead th {\n",
       "        text-align: right;\n",
       "    }\n",
       "</style>\n",
       "<table border=\"1\" class=\"dataframe\">\n",
       "  <thead>\n",
       "    <tr style=\"text-align: right;\">\n",
       "      <th></th>\n",
       "      <th>id</th>\n",
       "    </tr>\n",
       "    <tr>\n",
       "      <th>company</th>\n",
       "      <th></th>\n",
       "    </tr>\n",
       "  </thead>\n",
       "  <tbody>\n",
       "    <tr>\n",
       "      <th>Yo</th>\n",
       "      <td>1</td>\n",
       "    </tr>\n",
       "    <tr>\n",
       "      <th>BMW</th>\n",
       "      <td>1</td>\n",
       "    </tr>\n",
       "    <tr>\n",
       "      <th>Benelli</th>\n",
       "      <td>1</td>\n",
       "    </tr>\n",
       "    <tr>\n",
       "      <th>Hyosung</th>\n",
       "      <td>1</td>\n",
       "    </tr>\n",
       "    <tr>\n",
       "      <th>Aprilia</th>\n",
       "      <td>2</td>\n",
       "    </tr>\n",
       "    <tr>\n",
       "      <th>Harley-Davidson</th>\n",
       "      <td>2</td>\n",
       "    </tr>\n",
       "    <tr>\n",
       "      <th>UM</th>\n",
       "      <td>3</td>\n",
       "    </tr>\n",
       "    <tr>\n",
       "      <th>Activa</th>\n",
       "      <td>3</td>\n",
       "    </tr>\n",
       "    <tr>\n",
       "      <th>Jawa</th>\n",
       "      <td>3</td>\n",
       "    </tr>\n",
       "    <tr>\n",
       "      <th>Kawasaki</th>\n",
       "      <td>4</td>\n",
       "    </tr>\n",
       "    <tr>\n",
       "      <th>Vespa</th>\n",
       "      <td>4</td>\n",
       "    </tr>\n",
       "    <tr>\n",
       "      <th>Mahindra</th>\n",
       "      <td>6</td>\n",
       "    </tr>\n",
       "    <tr>\n",
       "      <th>KTM</th>\n",
       "      <td>24</td>\n",
       "    </tr>\n",
       "    <tr>\n",
       "      <th>Suzuki</th>\n",
       "      <td>30</td>\n",
       "    </tr>\n",
       "    <tr>\n",
       "      <th>TVS</th>\n",
       "      <td>69</td>\n",
       "    </tr>\n",
       "    <tr>\n",
       "      <th>Hero Honda</th>\n",
       "      <td>88</td>\n",
       "    </tr>\n",
       "    <tr>\n",
       "      <th>Yamaha</th>\n",
       "      <td>102</td>\n",
       "    </tr>\n",
       "    <tr>\n",
       "      <th>Royal Enfield</th>\n",
       "      <td>109</td>\n",
       "    </tr>\n",
       "    <tr>\n",
       "      <th>Hero</th>\n",
       "      <td>144</td>\n",
       "    </tr>\n",
       "    <tr>\n",
       "      <th>Honda</th>\n",
       "      <td>204</td>\n",
       "    </tr>\n",
       "    <tr>\n",
       "      <th>Bajaj</th>\n",
       "      <td>260</td>\n",
       "    </tr>\n",
       "  </tbody>\n",
       "</table>\n",
       "</div>"
      ],
      "text/plain": [
       "                  id\n",
       "company             \n",
       "Yo                 1\n",
       "BMW                1\n",
       "Benelli            1\n",
       "Hyosung            1\n",
       "Aprilia            2\n",
       "Harley-Davidson    2\n",
       "UM                 3\n",
       "Activa             3\n",
       "Jawa               3\n",
       "Kawasaki           4\n",
       "Vespa              4\n",
       "Mahindra           6\n",
       "KTM               24\n",
       "Suzuki            30\n",
       "TVS               69\n",
       "Hero Honda        88\n",
       "Yamaha           102\n",
       "Royal Enfield    109\n",
       "Hero             144\n",
       "Honda            204\n",
       "Bajaj            260"
      ]
     },
     "execution_count": 54,
     "metadata": {},
     "output_type": "execute_result"
    }
   ],
   "source": [
    "df_grouped = df[['company', 'id']].groupby('company').count().sort_values('id', ascending=True)\n",
    "df_grouped"
   ]
  },
  {
   "cell_type": "markdown",
   "id": "5c81bfd6",
   "metadata": {},
   "source": [
    "### 6. Qual o fabricante que possui a menor variação de valor de venda?"
   ]
  },
  {
   "cell_type": "code",
   "execution_count": 88,
   "id": "1061b5f9",
   "metadata": {
    "ExecuteTime": {
     "end_time": "2022-08-07T16:08:25.845249Z",
     "start_time": "2022-08-07T16:08:25.803468Z"
    }
   },
   "outputs": [
    {
     "data": {
      "text/html": [
       "<div>\n",
       "<style scoped>\n",
       "    .dataframe tbody tr th:only-of-type {\n",
       "        vertical-align: middle;\n",
       "    }\n",
       "\n",
       "    .dataframe tbody tr th {\n",
       "        vertical-align: top;\n",
       "    }\n",
       "\n",
       "    .dataframe thead th {\n",
       "        text-align: right;\n",
       "    }\n",
       "</style>\n",
       "<table border=\"1\" class=\"dataframe\">\n",
       "  <thead>\n",
       "    <tr style=\"text-align: right;\">\n",
       "      <th></th>\n",
       "      <th>company</th>\n",
       "      <th>std</th>\n",
       "      <th>mean</th>\n",
       "    </tr>\n",
       "  </thead>\n",
       "  <tbody>\n",
       "    <tr>\n",
       "      <th>0</th>\n",
       "      <td>Activa</td>\n",
       "      <td>3535.533906</td>\n",
       "      <td>42500.000000</td>\n",
       "    </tr>\n",
       "    <tr>\n",
       "      <th>1</th>\n",
       "      <td>Aprilia</td>\n",
       "      <td>7071.067812</td>\n",
       "      <td>70000.000000</td>\n",
       "    </tr>\n",
       "    <tr>\n",
       "      <th>7</th>\n",
       "      <td>Hero Honda</td>\n",
       "      <td>11402.587869</td>\n",
       "      <td>27391.111111</td>\n",
       "    </tr>\n",
       "    <tr>\n",
       "      <th>10</th>\n",
       "      <td>Jawa</td>\n",
       "      <td>13228.756555</td>\n",
       "      <td>175000.000000</td>\n",
       "    </tr>\n",
       "    <tr>\n",
       "      <th>17</th>\n",
       "      <td>UM</td>\n",
       "      <td>15275.252317</td>\n",
       "      <td>156666.666667</td>\n",
       "    </tr>\n",
       "  </tbody>\n",
       "</table>\n",
       "</div>"
      ],
      "text/plain": [
       "       company           std           mean\n",
       "0       Activa   3535.533906   42500.000000\n",
       "1      Aprilia   7071.067812   70000.000000\n",
       "7   Hero Honda  11402.587869   27391.111111\n",
       "10        Jawa  13228.756555  175000.000000\n",
       "17          UM  15275.252317  156666.666667"
      ]
     },
     "execution_count": 88,
     "metadata": {},
     "output_type": "execute_result"
    }
   ],
   "source": [
    "df_grouped = df[['selling_price', 'company']].groupby('company')\n",
    "\n",
    "df_grouped = df_grouped.agg(\n",
    "    std = pd.NamedAgg('selling_price', 'std'),\n",
    "    mean = pd.NamedAgg('selling_price', 'mean'),\n",
    ").reset_index().sort_values('std', ascending=True)\n",
    "\n",
    "df_grouped.head()"
   ]
  },
  {
   "cell_type": "markdown",
   "id": "b9ed54d8",
   "metadata": {},
   "source": [
    "### 7. Quais motos eu devo comprar? "
   ]
  },
  {
   "cell_type": "markdown",
   "id": "aa6224a5",
   "metadata": {},
   "source": [
    "- Leve em conta que eu desejo motos com no máximo 3 anos de uso; no máximo 40 mil quilometros rodados; que sejam de um único dono; que estejam sendo vendidas por possoas físicas e que tenham o valor pretendido de venda menor que o valor do showroom. Envie um relatório contendo o modelo, preço de venda, quilometro rodado e ano, ordenado por valor de venda de forma decrescente para o meu e-mail.\n"
   ]
  },
  {
   "cell_type": "code",
   "execution_count": 90,
   "id": "4fc48fab",
   "metadata": {
    "ExecuteTime": {
     "end_time": "2022-08-07T16:24:47.107544Z",
     "start_time": "2022-08-07T16:24:47.098449Z"
    }
   },
   "outputs": [],
   "source": [
    "year = df['year'] >= 2018\n",
    "km_rodado = df['km_driven'] <= 40000\n",
    "donos = df['owner'] == '1st owner'\n",
    "venda = df['selling_price'] < df['ex_showroom_price']"
   ]
  },
  {
   "cell_type": "code",
   "execution_count": 96,
   "id": "efda8903",
   "metadata": {
    "ExecuteTime": {
     "end_time": "2022-08-07T16:34:09.739556Z",
     "start_time": "2022-08-07T16:34:09.726516Z"
    }
   },
   "outputs": [],
   "source": [
    "df_selected = df.loc[ \n",
    "    year & km_rodado & donos & venda,\n",
    "    ['id', 'name', 'selling_price', 'km_driven', 'year', ]\n",
    "].sort_values('selling_price', ascending=False)"
   ]
  },
  {
   "cell_type": "code",
   "execution_count": 97,
   "id": "8d578d91",
   "metadata": {
    "ExecuteTime": {
     "end_time": "2022-08-07T16:34:12.921782Z",
     "start_time": "2022-08-07T16:34:12.872244Z"
    }
   },
   "outputs": [],
   "source": [
    "df_selected.to_excel('relatorio_motos.xlsx', index=False)"
   ]
  }
 ],
 "metadata": {
  "hide_input": false,
  "kernelspec": {
   "display_name": "Python 3 (ipykernel)",
   "language": "python",
   "name": "python3"
  },
  "language_info": {
   "codemirror_mode": {
    "name": "ipython",
    "version": 3
   },
   "file_extension": ".py",
   "mimetype": "text/x-python",
   "name": "python",
   "nbconvert_exporter": "python",
   "pygments_lexer": "ipython3",
   "version": "3.8.10"
  },
  "latex_envs": {
   "LaTeX_envs_menu_present": true,
   "autoclose": false,
   "autocomplete": true,
   "bibliofile": "biblio.bib",
   "cite_by": "apalike",
   "current_citInitial": 1,
   "eqLabelWithNumbers": true,
   "eqNumInitial": 1,
   "hotkeys": {
    "equation": "Ctrl-E",
    "itemize": "Ctrl-I"
   },
   "labels_anchors": false,
   "latex_user_defs": false,
   "report_style_numbering": false,
   "user_envs_cfg": false
  },
  "varInspector": {
   "cols": {
    "lenName": 16,
    "lenType": 16,
    "lenVar": 40
   },
   "kernels_config": {
    "python": {
     "delete_cmd_postfix": "",
     "delete_cmd_prefix": "del ",
     "library": "var_list.py",
     "varRefreshCmd": "print(var_dic_list())"
    },
    "r": {
     "delete_cmd_postfix": ") ",
     "delete_cmd_prefix": "rm(",
     "library": "var_list.r",
     "varRefreshCmd": "cat(var_dic_list()) "
    }
   },
   "types_to_exclude": [
    "module",
    "function",
    "builtin_function_or_method",
    "instance",
    "_Feature"
   ],
   "window_display": false
  },
  "vscode": {
   "interpreter": {
    "hash": "d7da943d29e683b94336196b543cb35f0f162d4f5b245b35bc1ef3fd3e73b856"
   }
  }
 },
 "nbformat": 4,
 "nbformat_minor": 5
}
